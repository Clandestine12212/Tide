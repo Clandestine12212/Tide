{
 "cells": [
  {
   "cell_type": "markdown",
   "metadata": {},
   "source": [
    "#### EXPERIMENT - "
   ]
  },
  {
   "cell_type": "markdown",
   "metadata": {},
   "source": [
    "\n",
    "\n",
    "\n",
    "\n",
    "<b> Hypothesis</b> - Trying to model the dataset to accurately process transaction data in the order of likelihood\n",
    "\n",
    "<b> Design</b> - Here the accuracy is calculated based on F1 score, ROC curves\n",
    "\n",
    "<b> Author Name</b> - Amith K A \n",
    "\n",
    "<b> Time for the Experiment </b> - 12 Hours\n",
    "\n",
    "<b> Total run time of Notebook </b> - 61.578125 seconds\n",
    "\n",
    "<b> System  </b> - Windows, 4 Core, 16 GB\n",
    "\n",
    "<b> Release </b> - 10\n",
    "\n",
    "<b> Version </b> - 10.0.19041\n",
    "\n",
    "<b> Machine </b> - AMD64\n",
    "\n",
    "<b> Processor </b> - Intel64 Family 6 Model 158 Stepping 9, GenuineIntel\n"
   ]
  },
  {
   "cell_type": "markdown",
   "metadata": {},
   "source": [
    "#### Pointers for the experiment"
   ]
  },
  {
   "cell_type": "markdown",
   "metadata": {},
   "source": [
    " - EDA is performed, based on this the features that hold no significance is removed\n",
    " \n",
    "  \n",
    " - The EDA I would perform on the dataset is \"To-the-book\" or very basic to say the least as no domain coverage has been shared\n",
    " \n",
    " \n",
    " - I would be running a few different models and the following notebook would have all details\n",
    " \n",
    " \n",
    " - Finally, I would be picking one model out of the various interations run based on personal discretion"
   ]
  },
  {
   "cell_type": "markdown",
   "metadata": {},
   "source": [
    "#### <u>STEPS</u>\n",
    " > 1. Importing the necessary packages, <b>Status</b> - <i>Done</i>\n",
    " > 2. EDA - Descriptive stats, <b>Status</b> - <i>Done</i>\n",
    " > 3. EDA - Correlation analysis, <b>Status</b> - <i>Done</i>\n",
    " > 4. EDA - Missing value treatment, <b>Status</b> - <i>Not Required</i>\n",
    " > 5. EDA - Outlier analysis, <b>Status</b> - <i>Not required</i>\n",
    " > 6. Modelling, Random Forest, <b>Status</b> - <i>Done</i>\n",
    " > 7. PCA Analysis performed, This was not a good measure, <b>Status</b> - <i>Done</i>\n",
    " > 8. Evaluation, <b>Status - 6 Models - </b> - <i>Done</i>\n",
    " > 9. Alternative methods, <b>Status</b> - <i>Done</i>\n",
    " > 10. Final Inference, <b>Status</b> - <i>Done</i>"
   ]
  },
  {
   "cell_type": "markdown",
   "metadata": {},
   "source": [
    "#### <u>ASSUMPTIONS</u>\n",
    " > For the interest of time, different iterations have not been assessed\n",
    "    - We have no missing values or the 0 indicated in columns does not suggest the value is missing\n",
    "    - The data provided is sufficnet enough to make a baseline model\n",
    "    - As per Occam's razor, we are electing the simplistic model. Complex versions involving LSTMs or Deep neural networks is not used here\n"
   ]
  },
  {
   "cell_type": "code",
   "execution_count": 1,
   "metadata": {},
   "outputs": [],
   "source": [
    "#Importing the necessary libraries"
   ]
  },
  {
   "cell_type": "code",
   "execution_count": 2,
   "metadata": {},
   "outputs": [],
   "source": [
    "import pandas as pd\n",
    "import seaborn as sns\n",
    "import numpy as np\n",
    "import matplotlib.pyplot as plt\n",
    "from sklearn.model_selection import train_test_split\n",
    "from sklearn.decomposition import PCA\n",
    "import warnings\n",
    "import pickle\n",
    "from sklearn.ensemble import RandomForestClassifier\n",
    "from sklearn.model_selection import cross_val_score\n",
    "warnings.filterwarnings('ignore')\n",
    "from sklearn.preprocessing import StandardScaler\n",
    "from sklearn.metrics import classification_report\n",
    "from sklearn.metrics import confusion_matrix\n",
    "import seaborn as sns; sns.set_theme()\n",
    "from imblearn.over_sampling import SMOTE \n",
    "from sklearn.metrics import roc_curve\n",
    "from sklearn.metrics import roc_auc_score\n",
    "import scikitplot as skplt"
   ]
  },
  {
   "cell_type": "code",
   "execution_count": 224,
   "metadata": {},
   "outputs": [],
   "source": [
    "# import types\n",
    "# def imports():\n",
    "#     for name, val in globals().items():\n",
    "#         if isinstance(val, types.ModuleType):\n",
    "#             yield val.__name__\n",
    "# list(imports())"
   ]
  },
  {
   "cell_type": "code",
   "execution_count": 223,
   "metadata": {},
   "outputs": [],
   "source": [
    "#print('\\n'.join(f'{m.__name__} {m.__version__}' for m in globals().values() if getattr(m, '__version__', None)))"
   ]
  },
  {
   "cell_type": "code",
   "execution_count": 4,
   "metadata": {},
   "outputs": [],
   "source": [
    "DF=pd.read_csv(\"./Desktop/Tide_test_DS/Tide_test_DS/data_interview_test.csv\",sep=\":\")"
   ]
  },
  {
   "cell_type": "code",
   "execution_count": 5,
   "metadata": {},
   "outputs": [
    {
     "data": {
      "text/html": [
       "<div>\n",
       "<style scoped>\n",
       "    .dataframe tbody tr th:only-of-type {\n",
       "        vertical-align: middle;\n",
       "    }\n",
       "\n",
       "    .dataframe tbody tr th {\n",
       "        vertical-align: top;\n",
       "    }\n",
       "\n",
       "    .dataframe thead th {\n",
       "        text-align: right;\n",
       "    }\n",
       "</style>\n",
       "<table border=\"1\" class=\"dataframe\">\n",
       "  <thead>\n",
       "    <tr style=\"text-align: right;\">\n",
       "      <th></th>\n",
       "      <th>company_id</th>\n",
       "      <th>DateMappingMatch</th>\n",
       "      <th>AmountMappingMatch</th>\n",
       "      <th>DescriptionMatch</th>\n",
       "      <th>DifferentPredictedTime</th>\n",
       "      <th>TimeMappingMatch</th>\n",
       "      <th>PredictedNameMatch</th>\n",
       "      <th>ShortNameMatch</th>\n",
       "      <th>DifferentPredictedDate</th>\n",
       "      <th>PredictedAmountMatch</th>\n",
       "      <th>PredictedTimeCloseMatch</th>\n",
       "    </tr>\n",
       "  </thead>\n",
       "  <tbody>\n",
       "    <tr>\n",
       "      <th>count</th>\n",
       "      <td>12034.000000</td>\n",
       "      <td>12034.000000</td>\n",
       "      <td>12034.000000</td>\n",
       "      <td>12034.000000</td>\n",
       "      <td>12034.000000</td>\n",
       "      <td>12034.000000</td>\n",
       "      <td>12034.000000</td>\n",
       "      <td>12034.000000</td>\n",
       "      <td>12034.000000</td>\n",
       "      <td>12034.000000</td>\n",
       "      <td>12034.000000</td>\n",
       "    </tr>\n",
       "    <tr>\n",
       "      <th>mean</th>\n",
       "      <td>27247.797906</td>\n",
       "      <td>0.217901</td>\n",
       "      <td>0.031660</td>\n",
       "      <td>0.021522</td>\n",
       "      <td>0.986455</td>\n",
       "      <td>0.013877</td>\n",
       "      <td>0.024215</td>\n",
       "      <td>0.037893</td>\n",
       "      <td>0.753532</td>\n",
       "      <td>0.001005</td>\n",
       "      <td>0.076533</td>\n",
       "    </tr>\n",
       "    <tr>\n",
       "      <th>std</th>\n",
       "      <td>12024.542988</td>\n",
       "      <td>0.384535</td>\n",
       "      <td>0.122611</td>\n",
       "      <td>0.116995</td>\n",
       "      <td>0.115597</td>\n",
       "      <td>0.116987</td>\n",
       "      <td>0.128646</td>\n",
       "      <td>0.190945</td>\n",
       "      <td>0.430972</td>\n",
       "      <td>0.020134</td>\n",
       "      <td>0.265860</td>\n",
       "    </tr>\n",
       "    <tr>\n",
       "      <th>min</th>\n",
       "      <td>10000.000000</td>\n",
       "      <td>0.000000</td>\n",
       "      <td>0.000000</td>\n",
       "      <td>0.000000</td>\n",
       "      <td>0.000000</td>\n",
       "      <td>0.000000</td>\n",
       "      <td>0.000000</td>\n",
       "      <td>0.000000</td>\n",
       "      <td>0.000000</td>\n",
       "      <td>0.000000</td>\n",
       "      <td>0.000000</td>\n",
       "    </tr>\n",
       "    <tr>\n",
       "      <th>25%</th>\n",
       "      <td>20000.000000</td>\n",
       "      <td>0.000000</td>\n",
       "      <td>0.000000</td>\n",
       "      <td>0.000000</td>\n",
       "      <td>1.000000</td>\n",
       "      <td>0.000000</td>\n",
       "      <td>0.000000</td>\n",
       "      <td>0.000000</td>\n",
       "      <td>1.000000</td>\n",
       "      <td>0.000000</td>\n",
       "      <td>0.000000</td>\n",
       "    </tr>\n",
       "    <tr>\n",
       "      <th>50%</th>\n",
       "      <td>30000.000000</td>\n",
       "      <td>0.000000</td>\n",
       "      <td>0.000000</td>\n",
       "      <td>0.000000</td>\n",
       "      <td>1.000000</td>\n",
       "      <td>0.000000</td>\n",
       "      <td>0.000000</td>\n",
       "      <td>0.000000</td>\n",
       "      <td>1.000000</td>\n",
       "      <td>0.000000</td>\n",
       "      <td>0.000000</td>\n",
       "    </tr>\n",
       "    <tr>\n",
       "      <th>75%</th>\n",
       "      <td>30000.000000</td>\n",
       "      <td>0.000000</td>\n",
       "      <td>0.000000</td>\n",
       "      <td>0.000000</td>\n",
       "      <td>1.000000</td>\n",
       "      <td>0.000000</td>\n",
       "      <td>0.000000</td>\n",
       "      <td>0.000000</td>\n",
       "      <td>1.000000</td>\n",
       "      <td>0.000000</td>\n",
       "      <td>0.000000</td>\n",
       "    </tr>\n",
       "    <tr>\n",
       "      <th>max</th>\n",
       "      <td>50000.000000</td>\n",
       "      <td>1.000000</td>\n",
       "      <td>0.900000</td>\n",
       "      <td>0.800000</td>\n",
       "      <td>1.000000</td>\n",
       "      <td>1.000000</td>\n",
       "      <td>0.800000</td>\n",
       "      <td>1.000000</td>\n",
       "      <td>1.000000</td>\n",
       "      <td>0.600000</td>\n",
       "      <td>1.000000</td>\n",
       "    </tr>\n",
       "  </tbody>\n",
       "</table>\n",
       "</div>"
      ],
      "text/plain": [
       "         company_id  DateMappingMatch  AmountMappingMatch  DescriptionMatch  \\\n",
       "count  12034.000000      12034.000000        12034.000000      12034.000000   \n",
       "mean   27247.797906          0.217901            0.031660          0.021522   \n",
       "std    12024.542988          0.384535            0.122611          0.116995   \n",
       "min    10000.000000          0.000000            0.000000          0.000000   \n",
       "25%    20000.000000          0.000000            0.000000          0.000000   \n",
       "50%    30000.000000          0.000000            0.000000          0.000000   \n",
       "75%    30000.000000          0.000000            0.000000          0.000000   \n",
       "max    50000.000000          1.000000            0.900000          0.800000   \n",
       "\n",
       "       DifferentPredictedTime  TimeMappingMatch  PredictedNameMatch  \\\n",
       "count            12034.000000      12034.000000        12034.000000   \n",
       "mean                 0.986455          0.013877            0.024215   \n",
       "std                  0.115597          0.116987            0.128646   \n",
       "min                  0.000000          0.000000            0.000000   \n",
       "25%                  1.000000          0.000000            0.000000   \n",
       "50%                  1.000000          0.000000            0.000000   \n",
       "75%                  1.000000          0.000000            0.000000   \n",
       "max                  1.000000          1.000000            0.800000   \n",
       "\n",
       "       ShortNameMatch  DifferentPredictedDate  PredictedAmountMatch  \\\n",
       "count    12034.000000            12034.000000          12034.000000   \n",
       "mean         0.037893                0.753532              0.001005   \n",
       "std          0.190945                0.430972              0.020134   \n",
       "min          0.000000                0.000000              0.000000   \n",
       "25%          0.000000                1.000000              0.000000   \n",
       "50%          0.000000                1.000000              0.000000   \n",
       "75%          0.000000                1.000000              0.000000   \n",
       "max          1.000000                1.000000              0.600000   \n",
       "\n",
       "       PredictedTimeCloseMatch  \n",
       "count             12034.000000  \n",
       "mean                  0.076533  \n",
       "std                   0.265860  \n",
       "min                   0.000000  \n",
       "25%                   0.000000  \n",
       "50%                   0.000000  \n",
       "75%                   0.000000  \n",
       "max                   1.000000  "
      ]
     },
     "execution_count": 5,
     "metadata": {},
     "output_type": "execute_result"
    }
   ],
   "source": [
    "DF.describe()"
   ]
  },
  {
   "cell_type": "code",
   "execution_count": 6,
   "metadata": {},
   "outputs": [],
   "source": [
    "# Removing \"DifferentPredictedTime\" as this is not a significant feature"
   ]
  },
  {
   "cell_type": "code",
   "execution_count": 7,
   "metadata": {},
   "outputs": [],
   "source": [
    "DF.drop(columns=\"DifferentPredictedTime\",inplace=True)"
   ]
  },
  {
   "cell_type": "code",
   "execution_count": 8,
   "metadata": {},
   "outputs": [
    {
     "data": {
      "text/plain": [
       "<AxesSubplot:>"
      ]
     },
     "execution_count": 8,
     "metadata": {},
     "output_type": "execute_result"
    },
    {
     "data": {
      "image/png": "[encoded data removed]",
      "text/plain": [
       "<Figure size 1008x720 with 2 Axes>"
      ]
     },
     "metadata": {
      "needs_background": "light"
     },
     "output_type": "display_data"
    }
   ],
   "source": [
    "fig, ax = plt.subplots(figsize=(14,10))\n",
    "sns.heatmap(DF.corr(), ax=ax)"
   ]
  },
  {
   "cell_type": "code",
   "execution_count": 9,
   "metadata": {},
   "outputs": [],
   "source": [
    "# Conditioning the matched_transaction_id, feature_transaction_id, receipt_id "
   ]
  },
  {
   "cell_type": "code",
   "execution_count": 10,
   "metadata": {},
   "outputs": [],
   "source": [
    "DF.matched_transaction_id=DF.matched_transaction_id.str.replace(',', '').astype(float)"
   ]
  },
  {
   "cell_type": "code",
   "execution_count": 11,
   "metadata": {},
   "outputs": [],
   "source": [
    "DF.feature_transaction_id=DF.feature_transaction_id.str.replace(',', '').astype(float)"
   ]
  },
  {
   "cell_type": "code",
   "execution_count": 12,
   "metadata": {},
   "outputs": [],
   "source": [
    "DF.receipt_id=DF.receipt_id.str.replace(',', '').astype(float)"
   ]
  },
  {
   "cell_type": "markdown",
   "metadata": {},
   "source": [
    "### <u>EDA</u>"
   ]
  },
  {
   "cell_type": "markdown",
   "metadata": {},
   "source": [
    "- Based on just analysing the data, it can be seen that the following columns are identifiers for receipts\n",
    "\n",
    "> matched_transaction_id\n",
    "\n",
    "> feature_transaction_id\n",
    "\n",
    "> receipt_id\n",
    "\n",
    "- They are however stored as strings and they need to be stored as numbers - We are converting them to float\n",
    "\n",
    "\n",
    "\n",
    "<b>----------------------------------------------------------------------------------------------------------------------------------------------------------------------------------------------</b>\n",
    "\n",
    "- The following columns are stored as some sort of  probability score of how likely a feature id matched. Eg - PredictedTimeCloseMatch of .4 would give 40% match\n",
    "\n",
    "> AmountMappingMatch\n",
    "\n",
    "> PredictedNameMatch\n",
    "\n",
    "> PredictedAmountMatch\n",
    "\n",
    "> DescriptionMatch\n",
    "\n",
    "> DateMappingMatch\n",
    "\n",
    "\n",
    "- The range specified in some of these columns are different and not stable. \n",
    "\n",
    "\n",
    "- For instance, we need to account for stable ranges this is done by Binning\n",
    "\n",
    "<b>----------------------------------------------------------------------------------------------------------------------------------------------------------------------------------------------</b>\n",
    "\n",
    "\n",
    "- The following Columns are binaries, i.e capable of holding either 0 or 1\n",
    "\n",
    "> DifferentPredictedDate\n",
    "\n",
    "> PredictedTimeCloseMatch\n",
    "\n",
    "> ShortNameMatch\n",
    "\n",
    "> TimeMappingMatch\n",
    "\n",
    "\n",
    "<b>----------------------------------------------------------------------------------------------------------------------------------------------------------------------------------------------</b>\n",
    "\n",
    "- No missing value treatment needed as we do not have enough data which suggests that missing values could be zeros\n",
    "\n",
    "- No outlier analysis needed here "
   ]
  },
  {
   "cell_type": "code",
   "execution_count": 13,
   "metadata": {},
   "outputs": [],
   "source": [
    "# Converting columns to categories"
   ]
  },
  {
   "cell_type": "code",
   "execution_count": 14,
   "metadata": {},
   "outputs": [],
   "source": [
    "Column_list=list(DF.columns[4:])"
   ]
  },
  {
   "cell_type": "code",
   "execution_count": 15,
   "metadata": {},
   "outputs": [
    {
     "data": {
      "text/plain": [
       "9"
      ]
     },
     "execution_count": 15,
     "metadata": {},
     "output_type": "execute_result"
    }
   ],
   "source": [
    "len(Column_list)"
   ]
  },
  {
   "cell_type": "code",
   "execution_count": 16,
   "metadata": {},
   "outputs": [],
   "source": [
    "Binaries = ['DifferentPredictedDate','PredictedTimeCloseMatch','ShortNameMatch','TimeMappingMatch']"
   ]
  },
  {
   "cell_type": "code",
   "execution_count": 17,
   "metadata": {},
   "outputs": [],
   "source": [
    "Needed=list(set(Column_list)-set(Binaries))"
   ]
  },
  {
   "cell_type": "code",
   "execution_count": 18,
   "metadata": {},
   "outputs": [],
   "source": [
    "for x in Binaries:\n",
    "    DF[x]=DF[x].astype('category').cat.codes"
   ]
  },
  {
   "cell_type": "code",
   "execution_count": 19,
   "metadata": {},
   "outputs": [
    {
     "data": {
      "text/plain": [
       "['PredictedAmountMatch',\n",
       " 'PredictedNameMatch',\n",
       " 'DateMappingMatch',\n",
       " 'DescriptionMatch',\n",
       " 'AmountMappingMatch']"
      ]
     },
     "execution_count": 19,
     "metadata": {},
     "output_type": "execute_result"
    }
   ],
   "source": [
    "Needed"
   ]
  },
  {
   "cell_type": "markdown",
   "metadata": {},
   "source": [
    "### <u>Binning</u>"
   ]
  },
  {
   "cell_type": "markdown",
   "metadata": {},
   "source": [
    "- Illustration of binning. The idea here is that we cannot one hot encode - as we would be creating fixed labels. \n",
    "\n",
    "\n",
    "- For instance for the column 'DateMappingMatch', the results can vary both in the training, validation and prediction data\n",
    "\n",
    "\n",
    "- One hot encoding this column would give rise to a lot of unknowns and the ability to handle those unknowns can have a severe effect on the model"
   ]
  },
  {
   "cell_type": "code",
   "execution_count": 20,
   "metadata": {},
   "outputs": [
    {
     "data": {
      "text/html": [
       "<div>\n",
       "<style scoped>\n",
       "    .dataframe tbody tr th:only-of-type {\n",
       "        vertical-align: middle;\n",
       "    }\n",
       "\n",
       "    .dataframe tbody tr th {\n",
       "        vertical-align: top;\n",
       "    }\n",
       "\n",
       "    .dataframe thead th {\n",
       "        text-align: right;\n",
       "    }\n",
       "</style>\n",
       "<table border=\"1\" class=\"dataframe\">\n",
       "  <thead>\n",
       "    <tr style=\"text-align: right;\">\n",
       "      <th></th>\n",
       "      <th>Codes</th>\n",
       "      <th>index</th>\n",
       "      <th>DateMappingMatch</th>\n",
       "    </tr>\n",
       "  </thead>\n",
       "  <tbody>\n",
       "    <tr>\n",
       "      <th>0</th>\n",
       "      <td>0</td>\n",
       "      <td>(-1.0, 0.4]</td>\n",
       "      <td>9068</td>\n",
       "    </tr>\n",
       "    <tr>\n",
       "      <th>1</th>\n",
       "      <td>1</td>\n",
       "      <td>(0.8, 1.0]</td>\n",
       "      <td>2639</td>\n",
       "    </tr>\n",
       "    <tr>\n",
       "      <th>2</th>\n",
       "      <td>2</td>\n",
       "      <td>(0.6, 0.8]</td>\n",
       "      <td>218</td>\n",
       "    </tr>\n",
       "    <tr>\n",
       "      <th>3</th>\n",
       "      <td>3</td>\n",
       "      <td>(0.4, 0.6]</td>\n",
       "      <td>109</td>\n",
       "    </tr>\n",
       "  </tbody>\n",
       "</table>\n",
       "</div>"
      ],
      "text/plain": [
       "   Codes        index  DateMappingMatch\n",
       "0      0  (-1.0, 0.4]              9068\n",
       "1      1   (0.8, 1.0]              2639\n",
       "2      2   (0.6, 0.8]               218\n",
       "3      3   (0.4, 0.6]               109"
      ]
     },
     "execution_count": 20,
     "metadata": {},
     "output_type": "execute_result"
    }
   ],
   "source": [
    "x='DateMappingMatch'\n",
    "pd.cut(DF[x], bins=[-1, .4, .6, .8, 1]).value_counts().to_frame().reset_index().reset_index().rename({'level_0':'Codes'}, axis=1)"
   ]
  },
  {
   "cell_type": "code",
   "execution_count": 21,
   "metadata": {},
   "outputs": [],
   "source": [
    "for x in Needed:\n",
    "    DF[x]=pd.cut(DF[x], bins=[-1, .4, .6, .8, 1])"
   ]
  },
  {
   "cell_type": "code",
   "execution_count": 22,
   "metadata": {},
   "outputs": [
    {
     "data": {
      "text/plain": [
       "['PredictedAmountMatch',\n",
       " 'PredictedNameMatch',\n",
       " 'DateMappingMatch',\n",
       " 'DescriptionMatch',\n",
       " 'AmountMappingMatch']"
      ]
     },
     "execution_count": 22,
     "metadata": {},
     "output_type": "execute_result"
    }
   ],
   "source": [
    "Needed"
   ]
  },
  {
   "cell_type": "code",
   "execution_count": 23,
   "metadata": {},
   "outputs": [],
   "source": [
    "for x in Needed:\n",
    "    DF[x]=DF[x].cat.codes"
   ]
  },
  {
   "cell_type": "code",
   "execution_count": 24,
   "metadata": {},
   "outputs": [],
   "source": [
    "# Finding matching columns, to determine correct matches"
   ]
  },
  {
   "cell_type": "code",
   "execution_count": 25,
   "metadata": {},
   "outputs": [
    {
     "data": {
      "text/html": [
       "<div>\n",
       "<style scoped>\n",
       "    .dataframe tbody tr th:only-of-type {\n",
       "        vertical-align: middle;\n",
       "    }\n",
       "\n",
       "    .dataframe tbody tr th {\n",
       "        vertical-align: top;\n",
       "    }\n",
       "\n",
       "    .dataframe thead th {\n",
       "        text-align: right;\n",
       "    }\n",
       "</style>\n",
       "<table border=\"1\" class=\"dataframe\">\n",
       "  <thead>\n",
       "    <tr style=\"text-align: right;\">\n",
       "      <th></th>\n",
       "      <th>receipt_id</th>\n",
       "      <th>company_id</th>\n",
       "      <th>matched_transaction_id</th>\n",
       "      <th>feature_transaction_id</th>\n",
       "      <th>DateMappingMatch</th>\n",
       "      <th>AmountMappingMatch</th>\n",
       "      <th>DescriptionMatch</th>\n",
       "      <th>TimeMappingMatch</th>\n",
       "      <th>PredictedNameMatch</th>\n",
       "      <th>ShortNameMatch</th>\n",
       "      <th>DifferentPredictedDate</th>\n",
       "      <th>PredictedAmountMatch</th>\n",
       "      <th>PredictedTimeCloseMatch</th>\n",
       "    </tr>\n",
       "  </thead>\n",
       "  <tbody>\n",
       "    <tr>\n",
       "      <th>25</th>\n",
       "      <td>10001.0</td>\n",
       "      <td>10000</td>\n",
       "      <td>10605.0</td>\n",
       "      <td>10605.0</td>\n",
       "      <td>3</td>\n",
       "      <td>0</td>\n",
       "      <td>0</td>\n",
       "      <td>0</td>\n",
       "      <td>0</td>\n",
       "      <td>0</td>\n",
       "      <td>0</td>\n",
       "      <td>0</td>\n",
       "      <td>0</td>\n",
       "    </tr>\n",
       "    <tr>\n",
       "      <th>27</th>\n",
       "      <td>10002.0</td>\n",
       "      <td>10000</td>\n",
       "      <td>10286.0</td>\n",
       "      <td>10286.0</td>\n",
       "      <td>3</td>\n",
       "      <td>0</td>\n",
       "      <td>0</td>\n",
       "      <td>0</td>\n",
       "      <td>2</td>\n",
       "      <td>0</td>\n",
       "      <td>0</td>\n",
       "      <td>0</td>\n",
       "      <td>0</td>\n",
       "    </tr>\n",
       "    <tr>\n",
       "      <th>38</th>\n",
       "      <td>10003.0</td>\n",
       "      <td>10000</td>\n",
       "      <td>10412.0</td>\n",
       "      <td>10412.0</td>\n",
       "      <td>3</td>\n",
       "      <td>0</td>\n",
       "      <td>0</td>\n",
       "      <td>0</td>\n",
       "      <td>0</td>\n",
       "      <td>1</td>\n",
       "      <td>0</td>\n",
       "      <td>0</td>\n",
       "      <td>0</td>\n",
       "    </tr>\n",
       "  </tbody>\n",
       "</table>\n",
       "</div>"
      ],
      "text/plain": [
       "    receipt_id  company_id  matched_transaction_id  feature_transaction_id  \\\n",
       "25     10001.0       10000                 10605.0                 10605.0   \n",
       "27     10002.0       10000                 10286.0                 10286.0   \n",
       "38     10003.0       10000                 10412.0                 10412.0   \n",
       "\n",
       "    DateMappingMatch  AmountMappingMatch  DescriptionMatch  TimeMappingMatch  \\\n",
       "25                 3                   0                 0                 0   \n",
       "27                 3                   0                 0                 0   \n",
       "38                 3                   0                 0                 0   \n",
       "\n",
       "    PredictedNameMatch  ShortNameMatch  DifferentPredictedDate  \\\n",
       "25                   0               0                       0   \n",
       "27                   2               0                       0   \n",
       "38                   0               1                       0   \n",
       "\n",
       "    PredictedAmountMatch  PredictedTimeCloseMatch  \n",
       "25                     0                        0  \n",
       "27                     0                        0  \n",
       "38                     0                        0  "
      ]
     },
     "execution_count": 25,
     "metadata": {},
     "output_type": "execute_result"
    }
   ],
   "source": [
    "DF[DF.matched_transaction_id==DF.feature_transaction_id].head(3)"
   ]
  },
  {
   "cell_type": "code",
   "execution_count": 26,
   "metadata": {},
   "outputs": [],
   "source": [
    "DF['Match'] = np.where(DF.matched_transaction_id==DF.feature_transaction_id, \"Yes\",\"No\")"
   ]
  },
  {
   "cell_type": "code",
   "execution_count": 27,
   "metadata": {},
   "outputs": [],
   "source": [
    "Lister_No=DF[DF.Match==\"Yes\"].matched_transaction_id"
   ]
  },
  {
   "cell_type": "code",
   "execution_count": 28,
   "metadata": {},
   "outputs": [],
   "source": [
    "#Saving a base copy to run different iterations"
   ]
  },
  {
   "cell_type": "code",
   "execution_count": 29,
   "metadata": {},
   "outputs": [],
   "source": [
    "DF_One=DF.copy()"
   ]
  },
  {
   "cell_type": "markdown",
   "metadata": {},
   "source": [
    "##### =================================================================================================================="
   ]
  },
  {
   "cell_type": "markdown",
   "metadata": {},
   "source": [
    "### Classification model 1 - We are sampling one positive data point and 1 negative data point "
   ]
  },
  {
   "cell_type": "markdown",
   "metadata": {},
   "source": [
    "##### =================================================================================================================="
   ]
  },
  {
   "cell_type": "markdown",
   "metadata": {},
   "source": [
    "- Intent here is that our dataset is not balanced, and we are sampling and balancing it\n",
    "\n",
    "\n",
    "- Random Forest model is used\n",
    "\n"
   ]
  },
  {
   "cell_type": "code",
   "execution_count": 30,
   "metadata": {},
   "outputs": [],
   "source": [
    "DF=DF_One.copy()"
   ]
  },
  {
   "cell_type": "code",
   "execution_count": 31,
   "metadata": {},
   "outputs": [],
   "source": [
    "List_me=[]\n",
    "def Analysing(x,num):\n",
    "    #print(Column_list[x])\n",
    "    row=x.values[2]\n",
    "    Delt=list(DF[DF.Match==\"No\"][DF[DF.Match==\"No\"].matched_transaction_id==row].head(num).index)\n",
    "    #print(Delt)\n",
    "    List_me.append(Delt)\n",
    "    \n",
    "    #DF[Column_list[x]].hist().plot\n",
    "    #print(DF[Column_list[x]].value_counts())"
   ]
  },
  {
   "cell_type": "code",
   "execution_count": 32,
   "metadata": {},
   "outputs": [
    {
     "data": {
      "text/plain": [
       "25       None\n",
       "27       None\n",
       "38       None\n",
       "73       None\n",
       "105      None\n",
       "         ... \n",
       "11975    None\n",
       "11980    None\n",
       "11993    None\n",
       "12006    None\n",
       "12033    None\n",
       "Length: 857, dtype: object"
      ]
     },
     "execution_count": 32,
     "metadata": {},
     "output_type": "execute_result"
    }
   ],
   "source": [
    "\n",
    "DF[DF.Match==\"Yes\"].apply(Analysing, axis=1, num=1)\n"
   ]
  },
  {
   "cell_type": "code",
   "execution_count": 33,
   "metadata": {},
   "outputs": [
    {
     "data": {
      "text/plain": [
       "857"
      ]
     },
     "execution_count": 33,
     "metadata": {},
     "output_type": "execute_result"
    }
   ],
   "source": [
    "len(List_me)"
   ]
  },
  {
   "cell_type": "code",
   "execution_count": 34,
   "metadata": {},
   "outputs": [],
   "source": [
    "flat_list = [item for sublist in List_me for item in sublist]\n",
    "    "
   ]
  },
  {
   "cell_type": "code",
   "execution_count": 35,
   "metadata": {},
   "outputs": [],
   "source": [
    "flat_list_2=list(DF[DF.Match==\"Yes\"].index)"
   ]
  },
  {
   "cell_type": "code",
   "execution_count": 36,
   "metadata": {},
   "outputs": [
    {
     "data": {
      "text/plain": [
       "857"
      ]
     },
     "execution_count": 36,
     "metadata": {},
     "output_type": "execute_result"
    }
   ],
   "source": [
    "len(flat_list_2)"
   ]
  },
  {
   "cell_type": "code",
   "execution_count": 37,
   "metadata": {},
   "outputs": [
    {
     "data": {
      "text/plain": [
       "1690"
      ]
     },
     "execution_count": 37,
     "metadata": {},
     "output_type": "execute_result"
    }
   ],
   "source": [
    "len(flat_list_2)+len(flat_list)"
   ]
  },
  {
   "cell_type": "code",
   "execution_count": 38,
   "metadata": {},
   "outputs": [
    {
     "data": {
      "text/plain": [
       "833"
      ]
     },
     "execution_count": 38,
     "metadata": {},
     "output_type": "execute_result"
    }
   ],
   "source": [
    "len(flat_list)"
   ]
  },
  {
   "cell_type": "code",
   "execution_count": 39,
   "metadata": {},
   "outputs": [],
   "source": [
    "flat_list.extend(flat_list_2)"
   ]
  },
  {
   "cell_type": "code",
   "execution_count": 40,
   "metadata": {},
   "outputs": [
    {
     "data": {
      "text/plain": [
       "1690"
      ]
     },
     "execution_count": 40,
     "metadata": {},
     "output_type": "execute_result"
    }
   ],
   "source": [
    "len(flat_list)"
   ]
  },
  {
   "cell_type": "code",
   "execution_count": 41,
   "metadata": {},
   "outputs": [],
   "source": [
    "DF=DF[DF.index.isin(flat_list)]"
   ]
  },
  {
   "cell_type": "code",
   "execution_count": 42,
   "metadata": {},
   "outputs": [
    {
     "data": {
      "text/plain": [
       "<AxesSubplot:>"
      ]
     },
     "execution_count": 42,
     "metadata": {},
     "output_type": "execute_result"
    },
    {
     "data": {
      "image/png": "[encoded data removed]",
      "text/plain": [
       "<Figure size 432x288 with 1 Axes>"
      ]
     },
     "metadata": {
      "needs_background": "light"
     },
     "output_type": "display_data"
    }
   ],
   "source": [
    "DF.matched_transaction_id.value_counts().hist()"
   ]
  },
  {
   "cell_type": "code",
   "execution_count": 43,
   "metadata": {},
   "outputs": [
    {
     "data": {
      "text/plain": [
       "857"
      ]
     },
     "execution_count": 43,
     "metadata": {},
     "output_type": "execute_result"
    }
   ],
   "source": [
    "len(list(set(DF[DF.Match==\"Yes\"].matched_transaction_id)))"
   ]
  },
  {
   "cell_type": "code",
   "execution_count": 44,
   "metadata": {},
   "outputs": [
    {
     "data": {
      "text/html": [
       "<div>\n",
       "<style scoped>\n",
       "    .dataframe tbody tr th:only-of-type {\n",
       "        vertical-align: middle;\n",
       "    }\n",
       "\n",
       "    .dataframe tbody tr th {\n",
       "        vertical-align: top;\n",
       "    }\n",
       "\n",
       "    .dataframe thead th {\n",
       "        text-align: right;\n",
       "    }\n",
       "</style>\n",
       "<table border=\"1\" class=\"dataframe\">\n",
       "  <thead>\n",
       "    <tr style=\"text-align: right;\">\n",
       "      <th></th>\n",
       "      <th>receipt_id</th>\n",
       "      <th>company_id</th>\n",
       "      <th>matched_transaction_id</th>\n",
       "      <th>feature_transaction_id</th>\n",
       "      <th>DateMappingMatch</th>\n",
       "      <th>AmountMappingMatch</th>\n",
       "      <th>DescriptionMatch</th>\n",
       "      <th>TimeMappingMatch</th>\n",
       "      <th>PredictedNameMatch</th>\n",
       "      <th>ShortNameMatch</th>\n",
       "      <th>DifferentPredictedDate</th>\n",
       "      <th>PredictedAmountMatch</th>\n",
       "      <th>PredictedTimeCloseMatch</th>\n",
       "      <th>Match</th>\n",
       "    </tr>\n",
       "  </thead>\n",
       "  <tbody>\n",
       "    <tr>\n",
       "      <th>20</th>\n",
       "      <td>10001.0</td>\n",
       "      <td>10000</td>\n",
       "      <td>10605.0</td>\n",
       "      <td>10596.0</td>\n",
       "      <td>0</td>\n",
       "      <td>0</td>\n",
       "      <td>0</td>\n",
       "      <td>0</td>\n",
       "      <td>0</td>\n",
       "      <td>0</td>\n",
       "      <td>1</td>\n",
       "      <td>0</td>\n",
       "      <td>0</td>\n",
       "      <td>No</td>\n",
       "    </tr>\n",
       "    <tr>\n",
       "      <th>28</th>\n",
       "      <td>10002.0</td>\n",
       "      <td>10000</td>\n",
       "      <td>10286.0</td>\n",
       "      <td>10287.0</td>\n",
       "      <td>3</td>\n",
       "      <td>0</td>\n",
       "      <td>0</td>\n",
       "      <td>0</td>\n",
       "      <td>0</td>\n",
       "      <td>0</td>\n",
       "      <td>0</td>\n",
       "      <td>0</td>\n",
       "      <td>0</td>\n",
       "      <td>No</td>\n",
       "    </tr>\n",
       "    <tr>\n",
       "      <th>34</th>\n",
       "      <td>10003.0</td>\n",
       "      <td>10000</td>\n",
       "      <td>10412.0</td>\n",
       "      <td>10140.0</td>\n",
       "      <td>0</td>\n",
       "      <td>0</td>\n",
       "      <td>0</td>\n",
       "      <td>0</td>\n",
       "      <td>0</td>\n",
       "      <td>0</td>\n",
       "      <td>1</td>\n",
       "      <td>0</td>\n",
       "      <td>0</td>\n",
       "      <td>No</td>\n",
       "    </tr>\n",
       "    <tr>\n",
       "      <th>62</th>\n",
       "      <td>10005.0</td>\n",
       "      <td>10000</td>\n",
       "      <td>10474.0</td>\n",
       "      <td>10461.0</td>\n",
       "      <td>0</td>\n",
       "      <td>0</td>\n",
       "      <td>0</td>\n",
       "      <td>0</td>\n",
       "      <td>0</td>\n",
       "      <td>0</td>\n",
       "      <td>1</td>\n",
       "      <td>0</td>\n",
       "      <td>0</td>\n",
       "      <td>No</td>\n",
       "    </tr>\n",
       "    <tr>\n",
       "      <th>97</th>\n",
       "      <td>10007.0</td>\n",
       "      <td>10000</td>\n",
       "      <td>10360.0</td>\n",
       "      <td>10348.0</td>\n",
       "      <td>0</td>\n",
       "      <td>0</td>\n",
       "      <td>0</td>\n",
       "      <td>0</td>\n",
       "      <td>0</td>\n",
       "      <td>0</td>\n",
       "      <td>1</td>\n",
       "      <td>0</td>\n",
       "      <td>0</td>\n",
       "      <td>No</td>\n",
       "    </tr>\n",
       "    <tr>\n",
       "      <th>...</th>\n",
       "      <td>...</td>\n",
       "      <td>...</td>\n",
       "      <td>...</td>\n",
       "      <td>...</td>\n",
       "      <td>...</td>\n",
       "      <td>...</td>\n",
       "      <td>...</td>\n",
       "      <td>...</td>\n",
       "      <td>...</td>\n",
       "      <td>...</td>\n",
       "      <td>...</td>\n",
       "      <td>...</td>\n",
       "      <td>...</td>\n",
       "      <td>...</td>\n",
       "    </tr>\n",
       "    <tr>\n",
       "      <th>11976</th>\n",
       "      <td>50221.0</td>\n",
       "      <td>50000</td>\n",
       "      <td>50034.0</td>\n",
       "      <td>50035.0</td>\n",
       "      <td>3</td>\n",
       "      <td>0</td>\n",
       "      <td>0</td>\n",
       "      <td>0</td>\n",
       "      <td>0</td>\n",
       "      <td>0</td>\n",
       "      <td>0</td>\n",
       "      <td>0</td>\n",
       "      <td>0</td>\n",
       "      <td>No</td>\n",
       "    </tr>\n",
       "    <tr>\n",
       "      <th>11979</th>\n",
       "      <td>50222.0</td>\n",
       "      <td>50000</td>\n",
       "      <td>50244.0</td>\n",
       "      <td>50243.0</td>\n",
       "      <td>3</td>\n",
       "      <td>0</td>\n",
       "      <td>0</td>\n",
       "      <td>0</td>\n",
       "      <td>0</td>\n",
       "      <td>0</td>\n",
       "      <td>0</td>\n",
       "      <td>0</td>\n",
       "      <td>0</td>\n",
       "      <td>No</td>\n",
       "    </tr>\n",
       "    <tr>\n",
       "      <th>11981</th>\n",
       "      <td>50223.0</td>\n",
       "      <td>50000</td>\n",
       "      <td>50342.0</td>\n",
       "      <td>50329.0</td>\n",
       "      <td>0</td>\n",
       "      <td>0</td>\n",
       "      <td>0</td>\n",
       "      <td>0</td>\n",
       "      <td>0</td>\n",
       "      <td>0</td>\n",
       "      <td>1</td>\n",
       "      <td>0</td>\n",
       "      <td>0</td>\n",
       "      <td>No</td>\n",
       "    </tr>\n",
       "    <tr>\n",
       "      <th>11995</th>\n",
       "      <td>50224.0</td>\n",
       "      <td>50000</td>\n",
       "      <td>50050.0</td>\n",
       "      <td>50038.0</td>\n",
       "      <td>0</td>\n",
       "      <td>2</td>\n",
       "      <td>0</td>\n",
       "      <td>0</td>\n",
       "      <td>0</td>\n",
       "      <td>0</td>\n",
       "      <td>1</td>\n",
       "      <td>0</td>\n",
       "      <td>0</td>\n",
       "      <td>No</td>\n",
       "    </tr>\n",
       "    <tr>\n",
       "      <th>12027</th>\n",
       "      <td>50226.0</td>\n",
       "      <td>50000</td>\n",
       "      <td>50368.0</td>\n",
       "      <td>50070.0</td>\n",
       "      <td>0</td>\n",
       "      <td>0</td>\n",
       "      <td>0</td>\n",
       "      <td>0</td>\n",
       "      <td>0</td>\n",
       "      <td>0</td>\n",
       "      <td>1</td>\n",
       "      <td>0</td>\n",
       "      <td>0</td>\n",
       "      <td>No</td>\n",
       "    </tr>\n",
       "  </tbody>\n",
       "</table>\n",
       "<p>833 rows × 14 columns</p>\n",
       "</div>"
      ],
      "text/plain": [
       "       receipt_id  company_id  matched_transaction_id  feature_transaction_id  \\\n",
       "20        10001.0       10000                 10605.0                 10596.0   \n",
       "28        10002.0       10000                 10286.0                 10287.0   \n",
       "34        10003.0       10000                 10412.0                 10140.0   \n",
       "62        10005.0       10000                 10474.0                 10461.0   \n",
       "97        10007.0       10000                 10360.0                 10348.0   \n",
       "...           ...         ...                     ...                     ...   \n",
       "11976     50221.0       50000                 50034.0                 50035.0   \n",
       "11979     50222.0       50000                 50244.0                 50243.0   \n",
       "11981     50223.0       50000                 50342.0                 50329.0   \n",
       "11995     50224.0       50000                 50050.0                 50038.0   \n",
       "12027     50226.0       50000                 50368.0                 50070.0   \n",
       "\n",
       "       DateMappingMatch  AmountMappingMatch  DescriptionMatch  \\\n",
       "20                    0                   0                 0   \n",
       "28                    3                   0                 0   \n",
       "34                    0                   0                 0   \n",
       "62                    0                   0                 0   \n",
       "97                    0                   0                 0   \n",
       "...                 ...                 ...               ...   \n",
       "11976                 3                   0                 0   \n",
       "11979                 3                   0                 0   \n",
       "11981                 0                   0                 0   \n",
       "11995                 0                   2                 0   \n",
       "12027                 0                   0                 0   \n",
       "\n",
       "       TimeMappingMatch  PredictedNameMatch  ShortNameMatch  \\\n",
       "20                    0                   0               0   \n",
       "28                    0                   0               0   \n",
       "34                    0                   0               0   \n",
       "62                    0                   0               0   \n",
       "97                    0                   0               0   \n",
       "...                 ...                 ...             ...   \n",
       "11976                 0                   0               0   \n",
       "11979                 0                   0               0   \n",
       "11981                 0                   0               0   \n",
       "11995                 0                   0               0   \n",
       "12027                 0                   0               0   \n",
       "\n",
       "       DifferentPredictedDate  PredictedAmountMatch  PredictedTimeCloseMatch  \\\n",
       "20                          1                     0                        0   \n",
       "28                          0                     0                        0   \n",
       "34                          1                     0                        0   \n",
       "62                          1                     0                        0   \n",
       "97                          1                     0                        0   \n",
       "...                       ...                   ...                      ...   \n",
       "11976                       0                     0                        0   \n",
       "11979                       0                     0                        0   \n",
       "11981                       1                     0                        0   \n",
       "11995                       1                     0                        0   \n",
       "12027                       1                     0                        0   \n",
       "\n",
       "      Match  \n",
       "20       No  \n",
       "28       No  \n",
       "34       No  \n",
       "62       No  \n",
       "97       No  \n",
       "...     ...  \n",
       "11976    No  \n",
       "11979    No  \n",
       "11981    No  \n",
       "11995    No  \n",
       "12027    No  \n",
       "\n",
       "[833 rows x 14 columns]"
      ]
     },
     "execution_count": 44,
     "metadata": {},
     "output_type": "execute_result"
    }
   ],
   "source": [
    "DF[DF.Match==\"No\"][DF[DF.Match==\"No\"].matched_transaction_id.isin(Lister_No)]"
   ]
  },
  {
   "cell_type": "code",
   "execution_count": 45,
   "metadata": {},
   "outputs": [],
   "source": [
    "#DF"
   ]
  },
  {
   "cell_type": "code",
   "execution_count": 46,
   "metadata": {},
   "outputs": [],
   "source": [
    "#set(DF.matched_transaction_id)"
   ]
  },
  {
   "cell_type": "code",
   "execution_count": 47,
   "metadata": {},
   "outputs": [],
   "source": [
    "#DF[DF.matched_transaction_id==10117]"
   ]
  },
  {
   "cell_type": "code",
   "execution_count": 48,
   "metadata": {},
   "outputs": [],
   "source": [
    "DF_new=DF.copy()"
   ]
  },
  {
   "cell_type": "code",
   "execution_count": 49,
   "metadata": {},
   "outputs": [
    {
     "data": {
      "text/plain": [
       "Yes    857\n",
       "No     833\n",
       "Name: Match, dtype: int64"
      ]
     },
     "execution_count": 49,
     "metadata": {},
     "output_type": "execute_result"
    }
   ],
   "source": [
    "DF.Match.value_counts()"
   ]
  },
  {
   "cell_type": "code",
   "execution_count": 50,
   "metadata": {},
   "outputs": [],
   "source": [
    "DF.drop(columns=\"feature_transaction_id\",inplace=True)"
   ]
  },
  {
   "cell_type": "code",
   "execution_count": 51,
   "metadata": {},
   "outputs": [],
   "source": [
    "X=DF.iloc[:,:-1]\n",
    "Y=DF.iloc[:,-1]"
   ]
  },
  {
   "cell_type": "code",
   "execution_count": 52,
   "metadata": {},
   "outputs": [],
   "source": [
    "X_train, X_test, y_train, y_test = train_test_split(X, Y, test_size=0.30)"
   ]
  },
  {
   "cell_type": "code",
   "execution_count": 53,
   "metadata": {},
   "outputs": [],
   "source": [
    "# smt = SMOTE(random_state=0)\n",
    "# X_train_SMOTE, y_train_SMOTE = smt.fit_sample(X_train, y_train)"
   ]
  },
  {
   "cell_type": "code",
   "execution_count": 54,
   "metadata": {},
   "outputs": [],
   "source": [
    "# X_train_SMOTE.shape,y_train_SMOTE.shape"
   ]
  },
  {
   "cell_type": "code",
   "execution_count": null,
   "metadata": {},
   "outputs": [],
   "source": []
  },
  {
   "cell_type": "code",
   "execution_count": 55,
   "metadata": {},
   "outputs": [],
   "source": [
    "Final_Model = RandomForestClassifier()"
   ]
  },
  {
   "cell_type": "code",
   "execution_count": 56,
   "metadata": {},
   "outputs": [
    {
     "data": {
      "text/plain": [
       "RandomForestClassifier()"
      ]
     },
     "execution_count": 56,
     "metadata": {},
     "output_type": "execute_result"
    }
   ],
   "source": [
    "Final_Model.fit(X_train,y_train)"
   ]
  },
  {
   "cell_type": "code",
   "execution_count": 57,
   "metadata": {},
   "outputs": [
    {
     "name": "stdout",
     "output_type": "stream",
     "text": [
      "Cross validation score of the model : 0.9391489703989704\n"
     ]
    }
   ],
   "source": [
    "print(f\"Cross validation score of the model : {cross_val_score(Final_Model, X_train, y_train, cv=8).mean()}\")"
   ]
  },
  {
   "cell_type": "code",
   "execution_count": 58,
   "metadata": {},
   "outputs": [],
   "source": [
    "#Model.fit(X_train_SMOTE,y_train_SMOTE)"
   ]
  },
  {
   "cell_type": "code",
   "execution_count": 59,
   "metadata": {},
   "outputs": [],
   "source": [
    "Predictions=Final_Model.predict(X_test)"
   ]
  },
  {
   "cell_type": "code",
   "execution_count": 60,
   "metadata": {},
   "outputs": [
    {
     "data": {
      "text/plain": [
       "Index(['receipt_id', 'company_id', 'matched_transaction_id',\n",
       "       'DateMappingMatch', 'AmountMappingMatch', 'DescriptionMatch',\n",
       "       'TimeMappingMatch', 'PredictedNameMatch', 'ShortNameMatch',\n",
       "       'DifferentPredictedDate', 'PredictedAmountMatch',\n",
       "       'PredictedTimeCloseMatch'],\n",
       "      dtype='object')"
      ]
     },
     "execution_count": 60,
     "metadata": {},
     "output_type": "execute_result"
    }
   ],
   "source": [
    "X_test.columns"
   ]
  },
  {
   "cell_type": "code",
   "execution_count": 61,
   "metadata": {},
   "outputs": [
    {
     "name": "stdout",
     "output_type": "stream",
     "text": [
      "[[241  15]\n",
      " [ 11 240]]\n"
     ]
    }
   ],
   "source": [
    "cf_matrix = confusion_matrix(y_test, Predictions)\n",
    "print(cf_matrix)"
   ]
  },
  {
   "cell_type": "code",
   "execution_count": 62,
   "metadata": {},
   "outputs": [
    {
     "data": {
      "text/plain": [
       "<AxesSubplot:>"
      ]
     },
     "execution_count": 62,
     "metadata": {},
     "output_type": "execute_result"
    },
    {
     "data": {
      "image/png": "[encoded data removed]",
      "text/plain": [
       "<Figure size 720x720 with 2 Axes>"
      ]
     },
     "metadata": {
      "needs_background": "light"
     },
     "output_type": "display_data"
    }
   ],
   "source": [
    "fig, ax = plt.subplots(figsize=(10,10))  \n",
    "group_names = [\"True Neg\",\"False Pos\",\"False Neg\",\"True Pos\"]\n",
    "group_counts = [\"{0:0.0f}\".format(value) for value in\n",
    "                cf_matrix.flatten()]\n",
    "group_percentages = [\"{0:.2%}\".format(value) for value in\n",
    "                     cf_matrix.flatten()/np.sum(cf_matrix)]\n",
    "labels = [f\"{v1}\\n{v2}\\n{v3}\" for v1, v2, v3 in\n",
    "          zip(group_names,group_counts,group_percentages)]\n",
    "labels = np.asarray(labels).reshape(2,2)\n",
    "sns.heatmap(cf_matrix, annot=labels, fmt='', cmap='Blues', ax=ax)"
   ]
  },
  {
   "cell_type": "code",
   "execution_count": 63,
   "metadata": {},
   "outputs": [
    {
     "name": "stdout",
     "output_type": "stream",
     "text": [
      "              precision    recall  f1-score   support\n",
      "\n",
      "          No       0.96      0.94      0.95       256\n",
      "         Yes       0.94      0.96      0.95       251\n",
      "\n",
      "    accuracy                           0.95       507\n",
      "   macro avg       0.95      0.95      0.95       507\n",
      "weighted avg       0.95      0.95      0.95       507\n",
      "\n"
     ]
    }
   ],
   "source": [
    "print(classification_report(y_test, Predictions))"
   ]
  },
  {
   "cell_type": "code",
   "execution_count": 64,
   "metadata": {},
   "outputs": [],
   "source": [
    "Mapper={\"Yes\":1,\"No\":0}"
   ]
  },
  {
   "cell_type": "code",
   "execution_count": 65,
   "metadata": {},
   "outputs": [],
   "source": [
    "y_test_temp=list(map(Mapper.get, y_test))"
   ]
  },
  {
   "cell_type": "code",
   "execution_count": 66,
   "metadata": {},
   "outputs": [],
   "source": [
    "Predictions_temp=list(map(Mapper.get, Predictions))"
   ]
  },
  {
   "cell_type": "code",
   "execution_count": 67,
   "metadata": {},
   "outputs": [],
   "source": [
    "This_1= roc_auc_score(y_test_temp, Predictions_temp)"
   ]
  },
  {
   "cell_type": "code",
   "execution_count": 68,
   "metadata": {},
   "outputs": [
    {
     "name": "stdout",
     "output_type": "stream",
     "text": [
      " AUC-ROC score is 0.9487907744023905\n"
     ]
    }
   ],
   "source": [
    "print(f\" AUC-ROC score is {This_1}\")"
   ]
  },
  {
   "cell_type": "code",
   "execution_count": 69,
   "metadata": {},
   "outputs": [],
   "source": [
    "fpr1, tpr1, _ = roc_curve(y_test_temp, Predictions_temp)"
   ]
  },
  {
   "cell_type": "code",
   "execution_count": null,
   "metadata": {},
   "outputs": [],
   "source": []
  },
  {
   "cell_type": "markdown",
   "metadata": {},
   "source": [
    "##### =================================================================================================================="
   ]
  },
  {
   "cell_type": "markdown",
   "metadata": {},
   "source": [
    "### Classification model 2 - We are sampling one positive data point and 1 negative data point "
   ]
  },
  {
   "cell_type": "markdown",
   "metadata": {},
   "source": [
    "##### =================================================================================================================="
   ]
  },
  {
   "cell_type": "markdown",
   "metadata": {},
   "source": [
    "- Intent here is that our dataset is not balanced, and we are sampling and balancing it\n",
    "\n",
    "\n",
    "- Random Forest model is used\n",
    "\n"
   ]
  },
  {
   "cell_type": "code",
   "execution_count": 70,
   "metadata": {},
   "outputs": [],
   "source": [
    "DF=DF_new.copy()"
   ]
  },
  {
   "cell_type": "code",
   "execution_count": 71,
   "metadata": {},
   "outputs": [],
   "source": [
    "DF.drop(columns='feature_transaction_id',inplace=True)"
   ]
  },
  {
   "cell_type": "code",
   "execution_count": 72,
   "metadata": {},
   "outputs": [],
   "source": [
    "DF[\"Weightage\"]=DF.DateMappingMatch+DF.AmountMappingMatch+DF.DescriptionMatch+DF.TimeMappingMatch+DF.PredictedNameMatch+DF.ShortNameMatch+DF.DifferentPredictedDate+DF.PredictedAmountMatch+DF.PredictedTimeCloseMatch"
   ]
  },
  {
   "cell_type": "code",
   "execution_count": 73,
   "metadata": {},
   "outputs": [],
   "source": [
    "DF=DF.sort_values(by=['matched_transaction_id','Weightage'],ascending=[True,False])"
   ]
  },
  {
   "cell_type": "code",
   "execution_count": 74,
   "metadata": {},
   "outputs": [],
   "source": [
    "DF=DF[[\"receipt_id\",\"company_id\",\"matched_transaction_id\",\"Weightage\",\"Match\"]]"
   ]
  },
  {
   "cell_type": "code",
   "execution_count": null,
   "metadata": {},
   "outputs": [],
   "source": []
  },
  {
   "cell_type": "code",
   "execution_count": 75,
   "metadata": {},
   "outputs": [
    {
     "data": {
      "text/plain": [
       "Yes    857\n",
       "No     833\n",
       "Name: Match, dtype: int64"
      ]
     },
     "execution_count": 75,
     "metadata": {},
     "output_type": "execute_result"
    }
   ],
   "source": [
    "DF.Match.value_counts()"
   ]
  },
  {
   "cell_type": "code",
   "execution_count": 76,
   "metadata": {},
   "outputs": [],
   "source": [
    "X=DF.iloc[:,:-1]\n",
    "Y=DF.iloc[:,-1]"
   ]
  },
  {
   "cell_type": "code",
   "execution_count": 77,
   "metadata": {},
   "outputs": [],
   "source": [
    "X_train, X_test, y_train, y_test = train_test_split(X, Y, test_size=0.30)"
   ]
  },
  {
   "cell_type": "code",
   "execution_count": 78,
   "metadata": {},
   "outputs": [],
   "source": [
    "Model = RandomForestClassifier()"
   ]
  },
  {
   "cell_type": "code",
   "execution_count": 79,
   "metadata": {},
   "outputs": [
    {
     "data": {
      "text/plain": [
       "RandomForestClassifier()"
      ]
     },
     "execution_count": 79,
     "metadata": {},
     "output_type": "execute_result"
    }
   ],
   "source": [
    "Model.fit(X_train,y_train)"
   ]
  },
  {
   "cell_type": "code",
   "execution_count": 80,
   "metadata": {},
   "outputs": [
    {
     "name": "stdout",
     "output_type": "stream",
     "text": [
      "Cross validation score of the model : 0.9272844272844273\n"
     ]
    }
   ],
   "source": [
    "print(f\"Cross validation score of the model : {cross_val_score(Model, X_train, y_train, cv=8).mean()}\")"
   ]
  },
  {
   "cell_type": "code",
   "execution_count": 81,
   "metadata": {},
   "outputs": [],
   "source": [
    "Predictions=Model.predict(X_test)"
   ]
  },
  {
   "cell_type": "code",
   "execution_count": null,
   "metadata": {},
   "outputs": [],
   "source": []
  },
  {
   "cell_type": "code",
   "execution_count": 82,
   "metadata": {},
   "outputs": [
    {
     "name": "stdout",
     "output_type": "stream",
     "text": [
      "[[235  25]\n",
      " [  8 239]]\n"
     ]
    }
   ],
   "source": [
    "cf_matrix = confusion_matrix(y_test, Predictions)\n",
    "print(cf_matrix)"
   ]
  },
  {
   "cell_type": "code",
   "execution_count": 83,
   "metadata": {},
   "outputs": [
    {
     "data": {
      "text/plain": [
       "<AxesSubplot:>"
      ]
     },
     "execution_count": 83,
     "metadata": {},
     "output_type": "execute_result"
    },
    {
     "data": {
      "image/png": "[encoded data removed]",
      "text/plain": [
       "<Figure size 720x720 with 2 Axes>"
      ]
     },
     "metadata": {
      "needs_background": "light"
     },
     "output_type": "display_data"
    }
   ],
   "source": [
    "fig, ax = plt.subplots(figsize=(10,10))  \n",
    "group_names = [\"True Neg\",\"False Pos\",\"False Neg\",\"True Pos\"]\n",
    "group_counts = [\"{0:0.0f}\".format(value) for value in\n",
    "                cf_matrix.flatten()]\n",
    "group_percentages = [\"{0:.2%}\".format(value) for value in\n",
    "                     cf_matrix.flatten()/np.sum(cf_matrix)]\n",
    "labels = [f\"{v1}\\n{v2}\\n{v3}\" for v1, v2, v3 in\n",
    "          zip(group_names,group_counts,group_percentages)]\n",
    "labels = np.asarray(labels).reshape(2,2)\n",
    "sns.heatmap(cf_matrix, annot=labels, fmt='', cmap='Blues', ax=ax)"
   ]
  },
  {
   "cell_type": "code",
   "execution_count": 84,
   "metadata": {},
   "outputs": [
    {
     "name": "stdout",
     "output_type": "stream",
     "text": [
      "              precision    recall  f1-score   support\n",
      "\n",
      "          No       0.97      0.90      0.93       260\n",
      "         Yes       0.91      0.97      0.94       247\n",
      "\n",
      "    accuracy                           0.93       507\n",
      "   macro avg       0.94      0.94      0.93       507\n",
      "weighted avg       0.94      0.93      0.93       507\n",
      "\n"
     ]
    }
   ],
   "source": [
    "print(classification_report(y_test, Predictions))"
   ]
  },
  {
   "cell_type": "code",
   "execution_count": 85,
   "metadata": {},
   "outputs": [],
   "source": [
    "Mapper={\"Yes\":1,\"No\":0}"
   ]
  },
  {
   "cell_type": "code",
   "execution_count": 86,
   "metadata": {},
   "outputs": [],
   "source": [
    "y_test_temp=list(map(Mapper.get, y_test))"
   ]
  },
  {
   "cell_type": "code",
   "execution_count": 87,
   "metadata": {},
   "outputs": [],
   "source": [
    "Predictions_temp=list(map(Mapper.get, Predictions))"
   ]
  },
  {
   "cell_type": "code",
   "execution_count": 88,
   "metadata": {},
   "outputs": [],
   "source": [
    "This_2= roc_auc_score(y_test_temp, Predictions_temp)"
   ]
  },
  {
   "cell_type": "code",
   "execution_count": 89,
   "metadata": {},
   "outputs": [
    {
     "name": "stdout",
     "output_type": "stream",
     "text": [
      " AUC-ROC score is 0.9357287449392713\n"
     ]
    }
   ],
   "source": [
    "print(f\" AUC-ROC score is {This_2}\")"
   ]
  },
  {
   "cell_type": "code",
   "execution_count": 90,
   "metadata": {},
   "outputs": [],
   "source": [
    "fpr2, tpr2, _ = roc_curve(y_test_temp, Predictions_temp)"
   ]
  },
  {
   "cell_type": "code",
   "execution_count": null,
   "metadata": {},
   "outputs": [],
   "source": []
  },
  {
   "cell_type": "markdown",
   "metadata": {},
   "source": [
    "##### =================================================================================================================="
   ]
  },
  {
   "cell_type": "markdown",
   "metadata": {},
   "source": [
    "### Classification model 3 - We are sampling one positive data point and 2 negative data points "
   ]
  },
  {
   "cell_type": "markdown",
   "metadata": {},
   "source": [
    "##### =================================================================================================================="
   ]
  },
  {
   "cell_type": "markdown",
   "metadata": {},
   "source": [
    "- Intent here is that our dataset is not balanced, and we are sampling and balancing it (For each positive sample, 2 negative samples are chosen)\n",
    "\n",
    "\n",
    "- Random Forest model is used\n",
    "\n",
    "\n",
    "\n"
   ]
  },
  {
   "cell_type": "code",
   "execution_count": 91,
   "metadata": {},
   "outputs": [],
   "source": [
    "DF=DF_One.copy()"
   ]
  },
  {
   "cell_type": "code",
   "execution_count": 92,
   "metadata": {},
   "outputs": [
    {
     "data": {
      "text/plain": [
       "25       None\n",
       "27       None\n",
       "38       None\n",
       "73       None\n",
       "105      None\n",
       "         ... \n",
       "11975    None\n",
       "11980    None\n",
       "11993    None\n",
       "12006    None\n",
       "12033    None\n",
       "Length: 857, dtype: object"
      ]
     },
     "execution_count": 92,
     "metadata": {},
     "output_type": "execute_result"
    }
   ],
   "source": [
    "\n",
    "DF[DF.Match==\"Yes\"].apply(Analysing, axis=1, num=2)\n"
   ]
  },
  {
   "cell_type": "code",
   "execution_count": 93,
   "metadata": {},
   "outputs": [
    {
     "data": {
      "text/plain": [
       "1714"
      ]
     },
     "execution_count": 93,
     "metadata": {},
     "output_type": "execute_result"
    }
   ],
   "source": [
    "len(List_me)"
   ]
  },
  {
   "cell_type": "code",
   "execution_count": 94,
   "metadata": {},
   "outputs": [],
   "source": [
    "flat_list = [item for sublist in List_me for item in sublist]\n",
    "    "
   ]
  },
  {
   "cell_type": "code",
   "execution_count": 95,
   "metadata": {},
   "outputs": [],
   "source": [
    "flat_list_2=list(DF[DF.Match==\"Yes\"].index)"
   ]
  },
  {
   "cell_type": "code",
   "execution_count": 96,
   "metadata": {},
   "outputs": [
    {
     "data": {
      "text/plain": [
       "857"
      ]
     },
     "execution_count": 96,
     "metadata": {},
     "output_type": "execute_result"
    }
   ],
   "source": [
    "len(flat_list_2)"
   ]
  },
  {
   "cell_type": "code",
   "execution_count": 97,
   "metadata": {},
   "outputs": [
    {
     "data": {
      "text/plain": [
       "3292"
      ]
     },
     "execution_count": 97,
     "metadata": {},
     "output_type": "execute_result"
    }
   ],
   "source": [
    "len(flat_list_2)+len(flat_list)"
   ]
  },
  {
   "cell_type": "code",
   "execution_count": 98,
   "metadata": {},
   "outputs": [
    {
     "data": {
      "text/plain": [
       "2435"
      ]
     },
     "execution_count": 98,
     "metadata": {},
     "output_type": "execute_result"
    }
   ],
   "source": [
    "len(flat_list)"
   ]
  },
  {
   "cell_type": "code",
   "execution_count": 99,
   "metadata": {},
   "outputs": [],
   "source": [
    "flat_list.extend(flat_list_2)"
   ]
  },
  {
   "cell_type": "code",
   "execution_count": 100,
   "metadata": {},
   "outputs": [
    {
     "data": {
      "text/plain": [
       "3292"
      ]
     },
     "execution_count": 100,
     "metadata": {},
     "output_type": "execute_result"
    }
   ],
   "source": [
    "len(flat_list)"
   ]
  },
  {
   "cell_type": "code",
   "execution_count": 101,
   "metadata": {},
   "outputs": [],
   "source": [
    "DF=DF[DF.index.isin(flat_list)]"
   ]
  },
  {
   "cell_type": "code",
   "execution_count": 102,
   "metadata": {},
   "outputs": [
    {
     "data": {
      "text/plain": [
       "No     1602\n",
       "Yes     857\n",
       "Name: Match, dtype: int64"
      ]
     },
     "execution_count": 102,
     "metadata": {},
     "output_type": "execute_result"
    }
   ],
   "source": [
    "DF.Match.value_counts()"
   ]
  },
  {
   "cell_type": "code",
   "execution_count": 103,
   "metadata": {},
   "outputs": [],
   "source": [
    "DF.drop(columns=\"feature_transaction_id\",inplace=True)"
   ]
  },
  {
   "cell_type": "code",
   "execution_count": 104,
   "metadata": {},
   "outputs": [],
   "source": [
    "X=DF.iloc[:,:-1]\n",
    "Y=DF.iloc[:,-1]"
   ]
  },
  {
   "cell_type": "code",
   "execution_count": 105,
   "metadata": {},
   "outputs": [],
   "source": [
    "X_train, X_test, y_train, y_test = train_test_split(X, Y, test_size=0.30)"
   ]
  },
  {
   "cell_type": "code",
   "execution_count": 106,
   "metadata": {},
   "outputs": [],
   "source": [
    "# smt = SMOTE(random_state=0)\n",
    "# X_train_SMOTE, y_train_SMOTE = smt.fit_sample(X_train, y_train)"
   ]
  },
  {
   "cell_type": "code",
   "execution_count": 107,
   "metadata": {},
   "outputs": [],
   "source": [
    "# X_train_SMOTE.shape,y_train_SMOTE.shape"
   ]
  },
  {
   "cell_type": "code",
   "execution_count": null,
   "metadata": {},
   "outputs": [],
   "source": []
  },
  {
   "cell_type": "code",
   "execution_count": 108,
   "metadata": {},
   "outputs": [],
   "source": [
    "Model = RandomForestClassifier()"
   ]
  },
  {
   "cell_type": "code",
   "execution_count": 109,
   "metadata": {},
   "outputs": [
    {
     "data": {
      "text/plain": [
       "RandomForestClassifier()"
      ]
     },
     "execution_count": 109,
     "metadata": {},
     "output_type": "execute_result"
    }
   ],
   "source": [
    "Model.fit(X_train,y_train)"
   ]
  },
  {
   "cell_type": "code",
   "execution_count": 110,
   "metadata": {},
   "outputs": [
    {
     "name": "stdout",
     "output_type": "stream",
     "text": [
      "Cross validation score of the model : 0.8965600775193798\n"
     ]
    }
   ],
   "source": [
    "print(f\"Cross validation score of the model : {cross_val_score(Model, X_train, y_train, cv=8).mean()}\")"
   ]
  },
  {
   "cell_type": "code",
   "execution_count": 111,
   "metadata": {},
   "outputs": [],
   "source": [
    "#Model.fit(X_train_SMOTE,y_train_SMOTE)"
   ]
  },
  {
   "cell_type": "code",
   "execution_count": 112,
   "metadata": {},
   "outputs": [],
   "source": [
    "Predictions=Model.predict(X_test)"
   ]
  },
  {
   "cell_type": "code",
   "execution_count": 113,
   "metadata": {},
   "outputs": [
    {
     "data": {
      "text/html": [
       "<div>\n",
       "<style scoped>\n",
       "    .dataframe tbody tr th:only-of-type {\n",
       "        vertical-align: middle;\n",
       "    }\n",
       "\n",
       "    .dataframe tbody tr th {\n",
       "        vertical-align: top;\n",
       "    }\n",
       "\n",
       "    .dataframe thead th {\n",
       "        text-align: right;\n",
       "    }\n",
       "</style>\n",
       "<table border=\"1\" class=\"dataframe\">\n",
       "  <thead>\n",
       "    <tr style=\"text-align: right;\">\n",
       "      <th></th>\n",
       "      <th>receipt_id</th>\n",
       "      <th>company_id</th>\n",
       "      <th>matched_transaction_id</th>\n",
       "      <th>DateMappingMatch</th>\n",
       "      <th>AmountMappingMatch</th>\n",
       "      <th>DescriptionMatch</th>\n",
       "      <th>TimeMappingMatch</th>\n",
       "      <th>PredictedNameMatch</th>\n",
       "      <th>ShortNameMatch</th>\n",
       "      <th>DifferentPredictedDate</th>\n",
       "      <th>PredictedAmountMatch</th>\n",
       "      <th>PredictedTimeCloseMatch</th>\n",
       "    </tr>\n",
       "  </thead>\n",
       "  <tbody>\n",
       "    <tr>\n",
       "      <th>377</th>\n",
       "      <td>10032.0</td>\n",
       "      <td>10000</td>\n",
       "      <td>10302.0</td>\n",
       "      <td>0</td>\n",
       "      <td>0</td>\n",
       "      <td>0</td>\n",
       "      <td>0</td>\n",
       "      <td>0</td>\n",
       "      <td>0</td>\n",
       "      <td>1</td>\n",
       "      <td>0</td>\n",
       "      <td>0</td>\n",
       "    </tr>\n",
       "    <tr>\n",
       "      <th>257</th>\n",
       "      <td>10020.0</td>\n",
       "      <td>10000</td>\n",
       "      <td>10683.0</td>\n",
       "      <td>0</td>\n",
       "      <td>0</td>\n",
       "      <td>0</td>\n",
       "      <td>0</td>\n",
       "      <td>0</td>\n",
       "      <td>0</td>\n",
       "      <td>1</td>\n",
       "      <td>0</td>\n",
       "      <td>0</td>\n",
       "    </tr>\n",
       "    <tr>\n",
       "      <th>3782</th>\n",
       "      <td>20138.0</td>\n",
       "      <td>20000</td>\n",
       "      <td>20571.0</td>\n",
       "      <td>3</td>\n",
       "      <td>0</td>\n",
       "      <td>0</td>\n",
       "      <td>1</td>\n",
       "      <td>0</td>\n",
       "      <td>0</td>\n",
       "      <td>0</td>\n",
       "      <td>0</td>\n",
       "      <td>1</td>\n",
       "    </tr>\n",
       "    <tr>\n",
       "      <th>1063</th>\n",
       "      <td>10104.0</td>\n",
       "      <td>10000</td>\n",
       "      <td>10588.0</td>\n",
       "      <td>0</td>\n",
       "      <td>0</td>\n",
       "      <td>0</td>\n",
       "      <td>0</td>\n",
       "      <td>0</td>\n",
       "      <td>0</td>\n",
       "      <td>1</td>\n",
       "      <td>0</td>\n",
       "      <td>0</td>\n",
       "    </tr>\n",
       "    <tr>\n",
       "      <th>2478</th>\n",
       "      <td>20011.0</td>\n",
       "      <td>20000</td>\n",
       "      <td>20432.0</td>\n",
       "      <td>0</td>\n",
       "      <td>0</td>\n",
       "      <td>0</td>\n",
       "      <td>0</td>\n",
       "      <td>0</td>\n",
       "      <td>0</td>\n",
       "      <td>1</td>\n",
       "      <td>0</td>\n",
       "      <td>0</td>\n",
       "    </tr>\n",
       "    <tr>\n",
       "      <th>...</th>\n",
       "      <td>...</td>\n",
       "      <td>...</td>\n",
       "      <td>...</td>\n",
       "      <td>...</td>\n",
       "      <td>...</td>\n",
       "      <td>...</td>\n",
       "      <td>...</td>\n",
       "      <td>...</td>\n",
       "      <td>...</td>\n",
       "      <td>...</td>\n",
       "      <td>...</td>\n",
       "      <td>...</td>\n",
       "    </tr>\n",
       "    <tr>\n",
       "      <th>3872</th>\n",
       "      <td>20146.0</td>\n",
       "      <td>20000</td>\n",
       "      <td>20301.0</td>\n",
       "      <td>0</td>\n",
       "      <td>0</td>\n",
       "      <td>0</td>\n",
       "      <td>0</td>\n",
       "      <td>0</td>\n",
       "      <td>0</td>\n",
       "      <td>1</td>\n",
       "      <td>0</td>\n",
       "      <td>0</td>\n",
       "    </tr>\n",
       "    <tr>\n",
       "      <th>340</th>\n",
       "      <td>10028.0</td>\n",
       "      <td>10000</td>\n",
       "      <td>10279.0</td>\n",
       "      <td>0</td>\n",
       "      <td>0</td>\n",
       "      <td>0</td>\n",
       "      <td>0</td>\n",
       "      <td>0</td>\n",
       "      <td>0</td>\n",
       "      <td>1</td>\n",
       "      <td>0</td>\n",
       "      <td>0</td>\n",
       "    </tr>\n",
       "    <tr>\n",
       "      <th>3627</th>\n",
       "      <td>20120.0</td>\n",
       "      <td>20000</td>\n",
       "      <td>20541.0</td>\n",
       "      <td>0</td>\n",
       "      <td>0</td>\n",
       "      <td>0</td>\n",
       "      <td>0</td>\n",
       "      <td>0</td>\n",
       "      <td>0</td>\n",
       "      <td>1</td>\n",
       "      <td>0</td>\n",
       "      <td>0</td>\n",
       "    </tr>\n",
       "    <tr>\n",
       "      <th>10200</th>\n",
       "      <td>40152.0</td>\n",
       "      <td>40000</td>\n",
       "      <td>40498.0</td>\n",
       "      <td>3</td>\n",
       "      <td>0</td>\n",
       "      <td>0</td>\n",
       "      <td>0</td>\n",
       "      <td>0</td>\n",
       "      <td>0</td>\n",
       "      <td>0</td>\n",
       "      <td>0</td>\n",
       "      <td>0</td>\n",
       "    </tr>\n",
       "    <tr>\n",
       "      <th>3163</th>\n",
       "      <td>20071.0</td>\n",
       "      <td>20000</td>\n",
       "      <td>20305.0</td>\n",
       "      <td>3</td>\n",
       "      <td>0</td>\n",
       "      <td>0</td>\n",
       "      <td>0</td>\n",
       "      <td>0</td>\n",
       "      <td>0</td>\n",
       "      <td>0</td>\n",
       "      <td>0</td>\n",
       "      <td>1</td>\n",
       "    </tr>\n",
       "  </tbody>\n",
       "</table>\n",
       "<p>738 rows × 12 columns</p>\n",
       "</div>"
      ],
      "text/plain": [
       "       receipt_id  company_id  matched_transaction_id  DateMappingMatch  \\\n",
       "377       10032.0       10000                 10302.0                 0   \n",
       "257       10020.0       10000                 10683.0                 0   \n",
       "3782      20138.0       20000                 20571.0                 3   \n",
       "1063      10104.0       10000                 10588.0                 0   \n",
       "2478      20011.0       20000                 20432.0                 0   \n",
       "...           ...         ...                     ...               ...   \n",
       "3872      20146.0       20000                 20301.0                 0   \n",
       "340       10028.0       10000                 10279.0                 0   \n",
       "3627      20120.0       20000                 20541.0                 0   \n",
       "10200     40152.0       40000                 40498.0                 3   \n",
       "3163      20071.0       20000                 20305.0                 3   \n",
       "\n",
       "       AmountMappingMatch  DescriptionMatch  TimeMappingMatch  \\\n",
       "377                     0                 0                 0   \n",
       "257                     0                 0                 0   \n",
       "3782                    0                 0                 1   \n",
       "1063                    0                 0                 0   \n",
       "2478                    0                 0                 0   \n",
       "...                   ...               ...               ...   \n",
       "3872                    0                 0                 0   \n",
       "340                     0                 0                 0   \n",
       "3627                    0                 0                 0   \n",
       "10200                   0                 0                 0   \n",
       "3163                    0                 0                 0   \n",
       "\n",
       "       PredictedNameMatch  ShortNameMatch  DifferentPredictedDate  \\\n",
       "377                     0               0                       1   \n",
       "257                     0               0                       1   \n",
       "3782                    0               0                       0   \n",
       "1063                    0               0                       1   \n",
       "2478                    0               0                       1   \n",
       "...                   ...             ...                     ...   \n",
       "3872                    0               0                       1   \n",
       "340                     0               0                       1   \n",
       "3627                    0               0                       1   \n",
       "10200                   0               0                       0   \n",
       "3163                    0               0                       0   \n",
       "\n",
       "       PredictedAmountMatch  PredictedTimeCloseMatch  \n",
       "377                       0                        0  \n",
       "257                       0                        0  \n",
       "3782                      0                        1  \n",
       "1063                      0                        0  \n",
       "2478                      0                        0  \n",
       "...                     ...                      ...  \n",
       "3872                      0                        0  \n",
       "340                       0                        0  \n",
       "3627                      0                        0  \n",
       "10200                     0                        0  \n",
       "3163                      0                        1  \n",
       "\n",
       "[738 rows x 12 columns]"
      ]
     },
     "execution_count": 113,
     "metadata": {},
     "output_type": "execute_result"
    }
   ],
   "source": [
    "X_test"
   ]
  },
  {
   "cell_type": "code",
   "execution_count": 114,
   "metadata": {},
   "outputs": [
    {
     "name": "stdout",
     "output_type": "stream",
     "text": [
      "[[464  35]\n",
      " [ 22 217]]\n"
     ]
    }
   ],
   "source": [
    "cf_matrix = confusion_matrix(y_test, Predictions)\n",
    "print(cf_matrix)"
   ]
  },
  {
   "cell_type": "code",
   "execution_count": 115,
   "metadata": {},
   "outputs": [
    {
     "data": {
      "text/plain": [
       "<AxesSubplot:>"
      ]
     },
     "execution_count": 115,
     "metadata": {},
     "output_type": "execute_result"
    },
    {
     "data": {
      "image/png": "[encoded data removed]",
      "text/plain": [
       "<Figure size 720x720 with 2 Axes>"
      ]
     },
     "metadata": {
      "needs_background": "light"
     },
     "output_type": "display_data"
    }
   ],
   "source": [
    "fig, ax = plt.subplots(figsize=(10,10))  \n",
    "group_names = [\"True Neg\",\"False Pos\",\"False Neg\",\"True Pos\"]\n",
    "group_counts = [\"{0:0.0f}\".format(value) for value in\n",
    "                cf_matrix.flatten()]\n",
    "group_percentages = [\"{0:.2%}\".format(value) for value in\n",
    "                     cf_matrix.flatten()/np.sum(cf_matrix)]\n",
    "labels = [f\"{v1}\\n{v2}\\n{v3}\" for v1, v2, v3 in\n",
    "          zip(group_names,group_counts,group_percentages)]\n",
    "labels = np.asarray(labels).reshape(2,2)\n",
    "sns.heatmap(cf_matrix, annot=labels, fmt='', cmap='Blues', ax=ax)"
   ]
  },
  {
   "cell_type": "code",
   "execution_count": 116,
   "metadata": {},
   "outputs": [
    {
     "name": "stdout",
     "output_type": "stream",
     "text": [
      "              precision    recall  f1-score   support\n",
      "\n",
      "          No       0.95      0.93      0.94       499\n",
      "         Yes       0.86      0.91      0.88       239\n",
      "\n",
      "    accuracy                           0.92       738\n",
      "   macro avg       0.91      0.92      0.91       738\n",
      "weighted avg       0.92      0.92      0.92       738\n",
      "\n"
     ]
    }
   ],
   "source": [
    "print(classification_report(y_test, Predictions))"
   ]
  },
  {
   "cell_type": "code",
   "execution_count": 117,
   "metadata": {},
   "outputs": [],
   "source": [
    "Mapper={\"Yes\":1,\"No\":0}"
   ]
  },
  {
   "cell_type": "code",
   "execution_count": 118,
   "metadata": {},
   "outputs": [],
   "source": [
    "y_test_temp=list(map(Mapper.get, y_test))"
   ]
  },
  {
   "cell_type": "code",
   "execution_count": 119,
   "metadata": {},
   "outputs": [],
   "source": [
    "Predictions_temp=list(map(Mapper.get, Predictions))"
   ]
  },
  {
   "cell_type": "code",
   "execution_count": 120,
   "metadata": {},
   "outputs": [],
   "source": [
    "This_3= roc_auc_score(y_test_temp, Predictions_temp)"
   ]
  },
  {
   "cell_type": "code",
   "execution_count": 121,
   "metadata": {},
   "outputs": [
    {
     "name": "stdout",
     "output_type": "stream",
     "text": [
      " AUC-ROC score is 0.9189047551169285\n"
     ]
    }
   ],
   "source": [
    "print(f\" AUC-ROC score is {This_3}\")"
   ]
  },
  {
   "cell_type": "code",
   "execution_count": 122,
   "metadata": {},
   "outputs": [],
   "source": [
    "fpr3, tpr3, _ = roc_curve(y_test_temp, Predictions_temp)"
   ]
  },
  {
   "cell_type": "markdown",
   "metadata": {},
   "source": [
    "##### =================================================================================================================="
   ]
  },
  {
   "cell_type": "markdown",
   "metadata": {},
   "source": [
    "### Classification model 4 - We are using the imbalanced dataset as it is"
   ]
  },
  {
   "cell_type": "markdown",
   "metadata": {},
   "source": [
    "##### =================================================================================================================="
   ]
  },
  {
   "cell_type": "markdown",
   "metadata": {},
   "source": [
    "- Intent here is that our dataset is not balanced, and we are sampling and balancing it (For each positive sample, 2 negative samples are chosen)\n",
    "\n",
    "\n",
    "- Random Forest model is used\n",
    "\n",
    "\n",
    "- Random Forest being a Decision tree based algorithm is found to generalise well to imbalance of dataset, so this model would be attempting to find evidence in that\n",
    "\n",
    "\n"
   ]
  },
  {
   "cell_type": "code",
   "execution_count": null,
   "metadata": {},
   "outputs": [],
   "source": []
  },
  {
   "cell_type": "code",
   "execution_count": 123,
   "metadata": {},
   "outputs": [],
   "source": [
    "DF=DF_One.copy()"
   ]
  },
  {
   "cell_type": "code",
   "execution_count": 124,
   "metadata": {},
   "outputs": [
    {
     "data": {
      "text/plain": [
       "No     11177\n",
       "Yes      857\n",
       "Name: Match, dtype: int64"
      ]
     },
     "execution_count": 124,
     "metadata": {},
     "output_type": "execute_result"
    }
   ],
   "source": [
    "DF.Match.value_counts()"
   ]
  },
  {
   "cell_type": "code",
   "execution_count": 125,
   "metadata": {},
   "outputs": [],
   "source": [
    "DF.drop(columns=\"feature_transaction_id\",inplace=True)"
   ]
  },
  {
   "cell_type": "code",
   "execution_count": 126,
   "metadata": {},
   "outputs": [],
   "source": [
    "X=DF.iloc[:,:-1]\n",
    "Y=DF.iloc[:,-1]"
   ]
  },
  {
   "cell_type": "code",
   "execution_count": 127,
   "metadata": {},
   "outputs": [],
   "source": [
    "X_train, X_test, y_train, y_test = train_test_split(X, Y, test_size=0.30)"
   ]
  },
  {
   "cell_type": "code",
   "execution_count": 128,
   "metadata": {},
   "outputs": [],
   "source": [
    "# smt = SMOTE(random_state=0)\n",
    "# X_train_SMOTE, y_train_SMOTE = smt.fit_sample(X_train, y_train)"
   ]
  },
  {
   "cell_type": "code",
   "execution_count": 129,
   "metadata": {},
   "outputs": [],
   "source": [
    "# X_train_SMOTE.shape,y_train_SMOTE.shape"
   ]
  },
  {
   "cell_type": "code",
   "execution_count": null,
   "metadata": {},
   "outputs": [],
   "source": []
  },
  {
   "cell_type": "code",
   "execution_count": 130,
   "metadata": {},
   "outputs": [],
   "source": [
    "Model = RandomForestClassifier()"
   ]
  },
  {
   "cell_type": "code",
   "execution_count": 131,
   "metadata": {},
   "outputs": [
    {
     "data": {
      "text/plain": [
       "RandomForestClassifier()"
      ]
     },
     "execution_count": 131,
     "metadata": {},
     "output_type": "execute_result"
    }
   ],
   "source": [
    "Model.fit(X_train,y_train)"
   ]
  },
  {
   "cell_type": "code",
   "execution_count": 132,
   "metadata": {},
   "outputs": [
    {
     "name": "stdout",
     "output_type": "stream",
     "text": [
      "Cross validation score of the model : 0.9456250970430311\n"
     ]
    }
   ],
   "source": [
    "print(f\"Cross validation score of the model : {cross_val_score(Model, X_train, y_train, cv=8).mean()}\")"
   ]
  },
  {
   "cell_type": "code",
   "execution_count": 133,
   "metadata": {},
   "outputs": [],
   "source": [
    "#Model.fit(X_train_SMOTE,y_train_SMOTE)"
   ]
  },
  {
   "cell_type": "code",
   "execution_count": 134,
   "metadata": {},
   "outputs": [],
   "source": [
    "Predictions=Model.predict(X_test)"
   ]
  },
  {
   "cell_type": "code",
   "execution_count": 135,
   "metadata": {},
   "outputs": [
    {
     "data": {
      "text/html": [
       "<div>\n",
       "<style scoped>\n",
       "    .dataframe tbody tr th:only-of-type {\n",
       "        vertical-align: middle;\n",
       "    }\n",
       "\n",
       "    .dataframe tbody tr th {\n",
       "        vertical-align: top;\n",
       "    }\n",
       "\n",
       "    .dataframe thead th {\n",
       "        text-align: right;\n",
       "    }\n",
       "</style>\n",
       "<table border=\"1\" class=\"dataframe\">\n",
       "  <thead>\n",
       "    <tr style=\"text-align: right;\">\n",
       "      <th></th>\n",
       "      <th>receipt_id</th>\n",
       "      <th>company_id</th>\n",
       "      <th>matched_transaction_id</th>\n",
       "      <th>DateMappingMatch</th>\n",
       "      <th>AmountMappingMatch</th>\n",
       "      <th>DescriptionMatch</th>\n",
       "      <th>TimeMappingMatch</th>\n",
       "      <th>PredictedNameMatch</th>\n",
       "      <th>ShortNameMatch</th>\n",
       "      <th>DifferentPredictedDate</th>\n",
       "      <th>PredictedAmountMatch</th>\n",
       "      <th>PredictedTimeCloseMatch</th>\n",
       "    </tr>\n",
       "  </thead>\n",
       "  <tbody>\n",
       "    <tr>\n",
       "      <th>6671</th>\n",
       "      <td>30154.0</td>\n",
       "      <td>30000</td>\n",
       "      <td>30543.0</td>\n",
       "      <td>3</td>\n",
       "      <td>0</td>\n",
       "      <td>0</td>\n",
       "      <td>0</td>\n",
       "      <td>0</td>\n",
       "      <td>0</td>\n",
       "      <td>0</td>\n",
       "      <td>0</td>\n",
       "      <td>0</td>\n",
       "    </tr>\n",
       "    <tr>\n",
       "      <th>455</th>\n",
       "      <td>10040.0</td>\n",
       "      <td>10000</td>\n",
       "      <td>10399.0</td>\n",
       "      <td>0</td>\n",
       "      <td>0</td>\n",
       "      <td>0</td>\n",
       "      <td>0</td>\n",
       "      <td>0</td>\n",
       "      <td>0</td>\n",
       "      <td>1</td>\n",
       "      <td>0</td>\n",
       "      <td>1</td>\n",
       "    </tr>\n",
       "    <tr>\n",
       "      <th>10407</th>\n",
       "      <td>40216.0</td>\n",
       "      <td>40000</td>\n",
       "      <td>40231.0</td>\n",
       "      <td>0</td>\n",
       "      <td>0</td>\n",
       "      <td>0</td>\n",
       "      <td>0</td>\n",
       "      <td>0</td>\n",
       "      <td>0</td>\n",
       "      <td>1</td>\n",
       "      <td>0</td>\n",
       "      <td>0</td>\n",
       "    </tr>\n",
       "    <tr>\n",
       "      <th>9983</th>\n",
       "      <td>40074.0</td>\n",
       "      <td>40000</td>\n",
       "      <td>40046.0</td>\n",
       "      <td>0</td>\n",
       "      <td>0</td>\n",
       "      <td>0</td>\n",
       "      <td>0</td>\n",
       "      <td>0</td>\n",
       "      <td>0</td>\n",
       "      <td>1</td>\n",
       "      <td>0</td>\n",
       "      <td>0</td>\n",
       "    </tr>\n",
       "    <tr>\n",
       "      <th>6373</th>\n",
       "      <td>30133.0</td>\n",
       "      <td>30000</td>\n",
       "      <td>30756.0</td>\n",
       "      <td>3</td>\n",
       "      <td>0</td>\n",
       "      <td>0</td>\n",
       "      <td>0</td>\n",
       "      <td>2</td>\n",
       "      <td>0</td>\n",
       "      <td>0</td>\n",
       "      <td>0</td>\n",
       "      <td>0</td>\n",
       "    </tr>\n",
       "    <tr>\n",
       "      <th>...</th>\n",
       "      <td>...</td>\n",
       "      <td>...</td>\n",
       "      <td>...</td>\n",
       "      <td>...</td>\n",
       "      <td>...</td>\n",
       "      <td>...</td>\n",
       "      <td>...</td>\n",
       "      <td>...</td>\n",
       "      <td>...</td>\n",
       "      <td>...</td>\n",
       "      <td>...</td>\n",
       "      <td>...</td>\n",
       "    </tr>\n",
       "    <tr>\n",
       "      <th>950</th>\n",
       "      <td>10095.0</td>\n",
       "      <td>10000</td>\n",
       "      <td>10356.0</td>\n",
       "      <td>0</td>\n",
       "      <td>0</td>\n",
       "      <td>0</td>\n",
       "      <td>0</td>\n",
       "      <td>0</td>\n",
       "      <td>0</td>\n",
       "      <td>1</td>\n",
       "      <td>0</td>\n",
       "      <td>0</td>\n",
       "    </tr>\n",
       "    <tr>\n",
       "      <th>4552</th>\n",
       "      <td>20204.0</td>\n",
       "      <td>20000</td>\n",
       "      <td>20438.0</td>\n",
       "      <td>0</td>\n",
       "      <td>0</td>\n",
       "      <td>0</td>\n",
       "      <td>0</td>\n",
       "      <td>0</td>\n",
       "      <td>0</td>\n",
       "      <td>1</td>\n",
       "      <td>0</td>\n",
       "      <td>0</td>\n",
       "    </tr>\n",
       "    <tr>\n",
       "      <th>1948</th>\n",
       "      <td>10176.0</td>\n",
       "      <td>10000</td>\n",
       "      <td>10606.0</td>\n",
       "      <td>0</td>\n",
       "      <td>0</td>\n",
       "      <td>0</td>\n",
       "      <td>0</td>\n",
       "      <td>0</td>\n",
       "      <td>0</td>\n",
       "      <td>1</td>\n",
       "      <td>0</td>\n",
       "      <td>0</td>\n",
       "    </tr>\n",
       "    <tr>\n",
       "      <th>5850</th>\n",
       "      <td>30091.0</td>\n",
       "      <td>30000</td>\n",
       "      <td>30497.0</td>\n",
       "      <td>0</td>\n",
       "      <td>0</td>\n",
       "      <td>0</td>\n",
       "      <td>0</td>\n",
       "      <td>0</td>\n",
       "      <td>0</td>\n",
       "      <td>1</td>\n",
       "      <td>0</td>\n",
       "      <td>0</td>\n",
       "    </tr>\n",
       "    <tr>\n",
       "      <th>9901</th>\n",
       "      <td>40056.0</td>\n",
       "      <td>40000</td>\n",
       "      <td>40097.0</td>\n",
       "      <td>0</td>\n",
       "      <td>0</td>\n",
       "      <td>0</td>\n",
       "      <td>0</td>\n",
       "      <td>0</td>\n",
       "      <td>0</td>\n",
       "      <td>1</td>\n",
       "      <td>0</td>\n",
       "      <td>0</td>\n",
       "    </tr>\n",
       "  </tbody>\n",
       "</table>\n",
       "<p>3611 rows × 12 columns</p>\n",
       "</div>"
      ],
      "text/plain": [
       "       receipt_id  company_id  matched_transaction_id  DateMappingMatch  \\\n",
       "6671      30154.0       30000                 30543.0                 3   \n",
       "455       10040.0       10000                 10399.0                 0   \n",
       "10407     40216.0       40000                 40231.0                 0   \n",
       "9983      40074.0       40000                 40046.0                 0   \n",
       "6373      30133.0       30000                 30756.0                 3   \n",
       "...           ...         ...                     ...               ...   \n",
       "950       10095.0       10000                 10356.0                 0   \n",
       "4552      20204.0       20000                 20438.0                 0   \n",
       "1948      10176.0       10000                 10606.0                 0   \n",
       "5850      30091.0       30000                 30497.0                 0   \n",
       "9901      40056.0       40000                 40097.0                 0   \n",
       "\n",
       "       AmountMappingMatch  DescriptionMatch  TimeMappingMatch  \\\n",
       "6671                    0                 0                 0   \n",
       "455                     0                 0                 0   \n",
       "10407                   0                 0                 0   \n",
       "9983                    0                 0                 0   \n",
       "6373                    0                 0                 0   \n",
       "...                   ...               ...               ...   \n",
       "950                     0                 0                 0   \n",
       "4552                    0                 0                 0   \n",
       "1948                    0                 0                 0   \n",
       "5850                    0                 0                 0   \n",
       "9901                    0                 0                 0   \n",
       "\n",
       "       PredictedNameMatch  ShortNameMatch  DifferentPredictedDate  \\\n",
       "6671                    0               0                       0   \n",
       "455                     0               0                       1   \n",
       "10407                   0               0                       1   \n",
       "9983                    0               0                       1   \n",
       "6373                    2               0                       0   \n",
       "...                   ...             ...                     ...   \n",
       "950                     0               0                       1   \n",
       "4552                    0               0                       1   \n",
       "1948                    0               0                       1   \n",
       "5850                    0               0                       1   \n",
       "9901                    0               0                       1   \n",
       "\n",
       "       PredictedAmountMatch  PredictedTimeCloseMatch  \n",
       "6671                      0                        0  \n",
       "455                       0                        1  \n",
       "10407                     0                        0  \n",
       "9983                      0                        0  \n",
       "6373                      0                        0  \n",
       "...                     ...                      ...  \n",
       "950                       0                        0  \n",
       "4552                      0                        0  \n",
       "1948                      0                        0  \n",
       "5850                      0                        0  \n",
       "9901                      0                        0  \n",
       "\n",
       "[3611 rows x 12 columns]"
      ]
     },
     "execution_count": 135,
     "metadata": {},
     "output_type": "execute_result"
    }
   ],
   "source": [
    "X_test"
   ]
  },
  {
   "cell_type": "code",
   "execution_count": 136,
   "metadata": {},
   "outputs": [
    {
     "name": "stdout",
     "output_type": "stream",
     "text": [
      "[[3271   77]\n",
      " [ 137  126]]\n"
     ]
    }
   ],
   "source": [
    "cf_matrix = confusion_matrix(y_test, Predictions)\n",
    "print(cf_matrix)"
   ]
  },
  {
   "cell_type": "code",
   "execution_count": 137,
   "metadata": {},
   "outputs": [
    {
     "data": {
      "text/plain": [
       "<AxesSubplot:>"
      ]
     },
     "execution_count": 137,
     "metadata": {},
     "output_type": "execute_result"
    },
    {
     "data": {
      "image/png": "[encoded data removed]",
      "text/plain": [
       "<Figure size 720x720 with 2 Axes>"
      ]
     },
     "metadata": {
      "needs_background": "light"
     },
     "output_type": "display_data"
    }
   ],
   "source": [
    "fig, ax = plt.subplots(figsize=(10,10))  \n",
    "group_names = [\"True Neg\",\"False Pos\",\"False Neg\",\"True Pos\"]\n",
    "group_counts = [\"{0:0.0f}\".format(value) for value in\n",
    "                cf_matrix.flatten()]\n",
    "group_percentages = [\"{0:.2%}\".format(value) for value in\n",
    "                     cf_matrix.flatten()/np.sum(cf_matrix)]\n",
    "labels = [f\"{v1}\\n{v2}\\n{v3}\" for v1, v2, v3 in\n",
    "          zip(group_names,group_counts,group_percentages)]\n",
    "labels = np.asarray(labels).reshape(2,2)\n",
    "sns.heatmap(cf_matrix, annot=labels, fmt='', cmap='Blues', ax=ax)"
   ]
  },
  {
   "cell_type": "code",
   "execution_count": 138,
   "metadata": {},
   "outputs": [
    {
     "name": "stdout",
     "output_type": "stream",
     "text": [
      "              precision    recall  f1-score   support\n",
      "\n",
      "          No       0.96      0.98      0.97      3348\n",
      "         Yes       0.62      0.48      0.54       263\n",
      "\n",
      "    accuracy                           0.94      3611\n",
      "   macro avg       0.79      0.73      0.75      3611\n",
      "weighted avg       0.94      0.94      0.94      3611\n",
      "\n"
     ]
    }
   ],
   "source": [
    "print(classification_report(y_test, Predictions))"
   ]
  },
  {
   "cell_type": "code",
   "execution_count": 139,
   "metadata": {},
   "outputs": [],
   "source": [
    "Mapper={\"Yes\":1,\"No\":0}"
   ]
  },
  {
   "cell_type": "code",
   "execution_count": 140,
   "metadata": {},
   "outputs": [],
   "source": [
    "y_test_temp=list(map(Mapper.get, y_test))"
   ]
  },
  {
   "cell_type": "code",
   "execution_count": 141,
   "metadata": {},
   "outputs": [],
   "source": [
    "Predictions_temp=list(map(Mapper.get, Predictions))"
   ]
  },
  {
   "cell_type": "code",
   "execution_count": 142,
   "metadata": {},
   "outputs": [],
   "source": [
    "This_4= roc_auc_score(y_test_temp, Predictions_temp)"
   ]
  },
  {
   "cell_type": "code",
   "execution_count": 143,
   "metadata": {},
   "outputs": [
    {
     "name": "stdout",
     "output_type": "stream",
     "text": [
      " AUC-ROC score is 0.7280443236073065\n"
     ]
    }
   ],
   "source": [
    "print(f\" AUC-ROC score is {This_4}\")"
   ]
  },
  {
   "cell_type": "code",
   "execution_count": 144,
   "metadata": {},
   "outputs": [],
   "source": [
    "fpr4, tpr4, _ = roc_curve(y_test_temp, Predictions_temp)"
   ]
  },
  {
   "cell_type": "code",
   "execution_count": null,
   "metadata": {},
   "outputs": [],
   "source": []
  },
  {
   "cell_type": "markdown",
   "metadata": {},
   "source": [
    "##### =================================================================================================================="
   ]
  },
  {
   "cell_type": "markdown",
   "metadata": {},
   "source": [
    "### Classification model 5 - We are using the imbalanced dataset as it is, and using SMOTE "
   ]
  },
  {
   "cell_type": "markdown",
   "metadata": {},
   "source": [
    "##### =================================================================================================================="
   ]
  },
  {
   "cell_type": "markdown",
   "metadata": {},
   "source": [
    "- Intent here is that our dataset is not balanced, and we are sampling and balancing it (For each positive sample, 2 negative samples are chosen)\n",
    "\n",
    "\n",
    "- Random Forest model is used\n",
    "\n",
    "\n",
    "- We are using the SMOTE algorithm to oversample the minority class\n",
    "\n"
   ]
  },
  {
   "cell_type": "code",
   "execution_count": null,
   "metadata": {},
   "outputs": [],
   "source": []
  },
  {
   "cell_type": "code",
   "execution_count": 145,
   "metadata": {},
   "outputs": [],
   "source": [
    "DF=DF_One.copy()"
   ]
  },
  {
   "cell_type": "code",
   "execution_count": 146,
   "metadata": {},
   "outputs": [
    {
     "data": {
      "text/plain": [
       "No     11177\n",
       "Yes      857\n",
       "Name: Match, dtype: int64"
      ]
     },
     "execution_count": 146,
     "metadata": {},
     "output_type": "execute_result"
    }
   ],
   "source": [
    "DF.Match.value_counts()"
   ]
  },
  {
   "cell_type": "code",
   "execution_count": 147,
   "metadata": {},
   "outputs": [],
   "source": [
    "DF.drop(columns=\"feature_transaction_id\",inplace=True)"
   ]
  },
  {
   "cell_type": "code",
   "execution_count": 148,
   "metadata": {},
   "outputs": [],
   "source": [
    "X=DF.iloc[:,:-1]\n",
    "Y=DF.iloc[:,-1]"
   ]
  },
  {
   "cell_type": "code",
   "execution_count": 149,
   "metadata": {},
   "outputs": [],
   "source": [
    "X_train, X_test, y_train, y_test = train_test_split(X, Y, test_size=0.30)"
   ]
  },
  {
   "cell_type": "code",
   "execution_count": 150,
   "metadata": {},
   "outputs": [],
   "source": [
    "smt = SMOTE(random_state=0)\n",
    "X_train_SMOTE, y_train_SMOTE = smt.fit_sample(X_train, y_train)"
   ]
  },
  {
   "cell_type": "code",
   "execution_count": 151,
   "metadata": {},
   "outputs": [],
   "source": [
    "Model = RandomForestClassifier()"
   ]
  },
  {
   "cell_type": "code",
   "execution_count": 152,
   "metadata": {},
   "outputs": [
    {
     "data": {
      "text/plain": [
       "RandomForestClassifier()"
      ]
     },
     "execution_count": 152,
     "metadata": {},
     "output_type": "execute_result"
    }
   ],
   "source": [
    "Model.fit(X_train_SMOTE,y_train_SMOTE)"
   ]
  },
  {
   "cell_type": "code",
   "execution_count": 153,
   "metadata": {},
   "outputs": [
    {
     "name": "stdout",
     "output_type": "stream",
     "text": [
      "Cross validation score of the model : 0.9440822256886895\n"
     ]
    }
   ],
   "source": [
    "print(f\"Cross validation score of the model : {cross_val_score(Model, X_train, y_train, cv=8).mean()}\")"
   ]
  },
  {
   "cell_type": "code",
   "execution_count": 154,
   "metadata": {},
   "outputs": [],
   "source": [
    "Predictions=Model.predict(X_test)"
   ]
  },
  {
   "cell_type": "code",
   "execution_count": 155,
   "metadata": {},
   "outputs": [
    {
     "data": {
      "text/html": [
       "<div>\n",
       "<style scoped>\n",
       "    .dataframe tbody tr th:only-of-type {\n",
       "        vertical-align: middle;\n",
       "    }\n",
       "\n",
       "    .dataframe tbody tr th {\n",
       "        vertical-align: top;\n",
       "    }\n",
       "\n",
       "    .dataframe thead th {\n",
       "        text-align: right;\n",
       "    }\n",
       "</style>\n",
       "<table border=\"1\" class=\"dataframe\">\n",
       "  <thead>\n",
       "    <tr style=\"text-align: right;\">\n",
       "      <th></th>\n",
       "      <th>receipt_id</th>\n",
       "      <th>company_id</th>\n",
       "      <th>matched_transaction_id</th>\n",
       "      <th>DateMappingMatch</th>\n",
       "      <th>AmountMappingMatch</th>\n",
       "      <th>DescriptionMatch</th>\n",
       "      <th>TimeMappingMatch</th>\n",
       "      <th>PredictedNameMatch</th>\n",
       "      <th>ShortNameMatch</th>\n",
       "      <th>DifferentPredictedDate</th>\n",
       "      <th>PredictedAmountMatch</th>\n",
       "      <th>PredictedTimeCloseMatch</th>\n",
       "    </tr>\n",
       "  </thead>\n",
       "  <tbody>\n",
       "    <tr>\n",
       "      <th>8968</th>\n",
       "      <td>30337.0</td>\n",
       "      <td>30000</td>\n",
       "      <td>31325.0</td>\n",
       "      <td>2</td>\n",
       "      <td>0</td>\n",
       "      <td>0</td>\n",
       "      <td>0</td>\n",
       "      <td>0</td>\n",
       "      <td>0</td>\n",
       "      <td>0</td>\n",
       "      <td>0</td>\n",
       "      <td>0</td>\n",
       "    </tr>\n",
       "    <tr>\n",
       "      <th>9849</th>\n",
       "      <td>40046.0</td>\n",
       "      <td>40000</td>\n",
       "      <td>40333.0</td>\n",
       "      <td>3</td>\n",
       "      <td>0</td>\n",
       "      <td>0</td>\n",
       "      <td>0</td>\n",
       "      <td>0</td>\n",
       "      <td>0</td>\n",
       "      <td>0</td>\n",
       "      <td>0</td>\n",
       "      <td>0</td>\n",
       "    </tr>\n",
       "    <tr>\n",
       "      <th>2731</th>\n",
       "      <td>20035.0</td>\n",
       "      <td>20000</td>\n",
       "      <td>20434.0</td>\n",
       "      <td>0</td>\n",
       "      <td>0</td>\n",
       "      <td>0</td>\n",
       "      <td>0</td>\n",
       "      <td>0</td>\n",
       "      <td>0</td>\n",
       "      <td>1</td>\n",
       "      <td>0</td>\n",
       "      <td>0</td>\n",
       "    </tr>\n",
       "    <tr>\n",
       "      <th>5376</th>\n",
       "      <td>30054.0</td>\n",
       "      <td>30000</td>\n",
       "      <td>30678.0</td>\n",
       "      <td>3</td>\n",
       "      <td>0</td>\n",
       "      <td>1</td>\n",
       "      <td>0</td>\n",
       "      <td>0</td>\n",
       "      <td>1</td>\n",
       "      <td>0</td>\n",
       "      <td>0</td>\n",
       "      <td>0</td>\n",
       "    </tr>\n",
       "    <tr>\n",
       "      <th>9664</th>\n",
       "      <td>40000.0</td>\n",
       "      <td>40000</td>\n",
       "      <td>40419.0</td>\n",
       "      <td>0</td>\n",
       "      <td>0</td>\n",
       "      <td>0</td>\n",
       "      <td>0</td>\n",
       "      <td>0</td>\n",
       "      <td>0</td>\n",
       "      <td>1</td>\n",
       "      <td>0</td>\n",
       "      <td>0</td>\n",
       "    </tr>\n",
       "    <tr>\n",
       "      <th>...</th>\n",
       "      <td>...</td>\n",
       "      <td>...</td>\n",
       "      <td>...</td>\n",
       "      <td>...</td>\n",
       "      <td>...</td>\n",
       "      <td>...</td>\n",
       "      <td>...</td>\n",
       "      <td>...</td>\n",
       "      <td>...</td>\n",
       "      <td>...</td>\n",
       "      <td>...</td>\n",
       "      <td>...</td>\n",
       "    </tr>\n",
       "    <tr>\n",
       "      <th>740</th>\n",
       "      <td>10077.0</td>\n",
       "      <td>10000</td>\n",
       "      <td>10595.0</td>\n",
       "      <td>0</td>\n",
       "      <td>0</td>\n",
       "      <td>0</td>\n",
       "      <td>0</td>\n",
       "      <td>0</td>\n",
       "      <td>0</td>\n",
       "      <td>1</td>\n",
       "      <td>0</td>\n",
       "      <td>0</td>\n",
       "    </tr>\n",
       "    <tr>\n",
       "      <th>7902</th>\n",
       "      <td>30252.0</td>\n",
       "      <td>30000</td>\n",
       "      <td>30791.0</td>\n",
       "      <td>0</td>\n",
       "      <td>0</td>\n",
       "      <td>0</td>\n",
       "      <td>0</td>\n",
       "      <td>0</td>\n",
       "      <td>0</td>\n",
       "      <td>1</td>\n",
       "      <td>0</td>\n",
       "      <td>0</td>\n",
       "    </tr>\n",
       "    <tr>\n",
       "      <th>4210</th>\n",
       "      <td>20175.0</td>\n",
       "      <td>20000</td>\n",
       "      <td>20073.0</td>\n",
       "      <td>0</td>\n",
       "      <td>0</td>\n",
       "      <td>0</td>\n",
       "      <td>0</td>\n",
       "      <td>0</td>\n",
       "      <td>0</td>\n",
       "      <td>1</td>\n",
       "      <td>0</td>\n",
       "      <td>0</td>\n",
       "    </tr>\n",
       "    <tr>\n",
       "      <th>5043</th>\n",
       "      <td>30028.0</td>\n",
       "      <td>30000</td>\n",
       "      <td>30884.0</td>\n",
       "      <td>0</td>\n",
       "      <td>0</td>\n",
       "      <td>0</td>\n",
       "      <td>0</td>\n",
       "      <td>0</td>\n",
       "      <td>0</td>\n",
       "      <td>1</td>\n",
       "      <td>0</td>\n",
       "      <td>0</td>\n",
       "    </tr>\n",
       "    <tr>\n",
       "      <th>8986</th>\n",
       "      <td>30338.0</td>\n",
       "      <td>30000</td>\n",
       "      <td>30397.0</td>\n",
       "      <td>0</td>\n",
       "      <td>0</td>\n",
       "      <td>0</td>\n",
       "      <td>0</td>\n",
       "      <td>0</td>\n",
       "      <td>0</td>\n",
       "      <td>1</td>\n",
       "      <td>0</td>\n",
       "      <td>0</td>\n",
       "    </tr>\n",
       "  </tbody>\n",
       "</table>\n",
       "<p>3611 rows × 12 columns</p>\n",
       "</div>"
      ],
      "text/plain": [
       "      receipt_id  company_id  matched_transaction_id  DateMappingMatch  \\\n",
       "8968     30337.0       30000                 31325.0                 2   \n",
       "9849     40046.0       40000                 40333.0                 3   \n",
       "2731     20035.0       20000                 20434.0                 0   \n",
       "5376     30054.0       30000                 30678.0                 3   \n",
       "9664     40000.0       40000                 40419.0                 0   \n",
       "...          ...         ...                     ...               ...   \n",
       "740      10077.0       10000                 10595.0                 0   \n",
       "7902     30252.0       30000                 30791.0                 0   \n",
       "4210     20175.0       20000                 20073.0                 0   \n",
       "5043     30028.0       30000                 30884.0                 0   \n",
       "8986     30338.0       30000                 30397.0                 0   \n",
       "\n",
       "      AmountMappingMatch  DescriptionMatch  TimeMappingMatch  \\\n",
       "8968                   0                 0                 0   \n",
       "9849                   0                 0                 0   \n",
       "2731                   0                 0                 0   \n",
       "5376                   0                 1                 0   \n",
       "9664                   0                 0                 0   \n",
       "...                  ...               ...               ...   \n",
       "740                    0                 0                 0   \n",
       "7902                   0                 0                 0   \n",
       "4210                   0                 0                 0   \n",
       "5043                   0                 0                 0   \n",
       "8986                   0                 0                 0   \n",
       "\n",
       "      PredictedNameMatch  ShortNameMatch  DifferentPredictedDate  \\\n",
       "8968                   0               0                       0   \n",
       "9849                   0               0                       0   \n",
       "2731                   0               0                       1   \n",
       "5376                   0               1                       0   \n",
       "9664                   0               0                       1   \n",
       "...                  ...             ...                     ...   \n",
       "740                    0               0                       1   \n",
       "7902                   0               0                       1   \n",
       "4210                   0               0                       1   \n",
       "5043                   0               0                       1   \n",
       "8986                   0               0                       1   \n",
       "\n",
       "      PredictedAmountMatch  PredictedTimeCloseMatch  \n",
       "8968                     0                        0  \n",
       "9849                     0                        0  \n",
       "2731                     0                        0  \n",
       "5376                     0                        0  \n",
       "9664                     0                        0  \n",
       "...                    ...                      ...  \n",
       "740                      0                        0  \n",
       "7902                     0                        0  \n",
       "4210                     0                        0  \n",
       "5043                     0                        0  \n",
       "8986                     0                        0  \n",
       "\n",
       "[3611 rows x 12 columns]"
      ]
     },
     "execution_count": 155,
     "metadata": {},
     "output_type": "execute_result"
    }
   ],
   "source": [
    "X_test"
   ]
  },
  {
   "cell_type": "code",
   "execution_count": 156,
   "metadata": {},
   "outputs": [
    {
     "name": "stdout",
     "output_type": "stream",
     "text": [
      "[[3209  149]\n",
      " [  92  161]]\n"
     ]
    }
   ],
   "source": [
    "cf_matrix = confusion_matrix(y_test, Predictions)\n",
    "print(cf_matrix)"
   ]
  },
  {
   "cell_type": "code",
   "execution_count": 157,
   "metadata": {},
   "outputs": [
    {
     "data": {
      "text/plain": [
       "<AxesSubplot:>"
      ]
     },
     "execution_count": 157,
     "metadata": {},
     "output_type": "execute_result"
    },
    {
     "data": {
      "image/png": "[encoded data removed]",
      "text/plain": [
       "<Figure size 720x720 with 2 Axes>"
      ]
     },
     "metadata": {
      "needs_background": "light"
     },
     "output_type": "display_data"
    }
   ],
   "source": [
    "fig, ax = plt.subplots(figsize=(10,10))  \n",
    "group_names = [\"True Neg\",\"False Pos\",\"False Neg\",\"True Pos\"]\n",
    "group_counts = [\"{0:0.0f}\".format(value) for value in\n",
    "                cf_matrix.flatten()]\n",
    "group_percentages = [\"{0:.2%}\".format(value) for value in\n",
    "                     cf_matrix.flatten()/np.sum(cf_matrix)]\n",
    "labels = [f\"{v1}\\n{v2}\\n{v3}\" for v1, v2, v3 in\n",
    "          zip(group_names,group_counts,group_percentages)]\n",
    "labels = np.asarray(labels).reshape(2,2)\n",
    "sns.heatmap(cf_matrix, annot=labels, fmt='', cmap='Blues', ax=ax)"
   ]
  },
  {
   "cell_type": "code",
   "execution_count": 158,
   "metadata": {},
   "outputs": [
    {
     "name": "stdout",
     "output_type": "stream",
     "text": [
      "              precision    recall  f1-score   support\n",
      "\n",
      "          No       0.97      0.96      0.96      3358\n",
      "         Yes       0.52      0.64      0.57       253\n",
      "\n",
      "    accuracy                           0.93      3611\n",
      "   macro avg       0.75      0.80      0.77      3611\n",
      "weighted avg       0.94      0.93      0.94      3611\n",
      "\n"
     ]
    }
   ],
   "source": [
    "print(classification_report(y_test, Predictions))"
   ]
  },
  {
   "cell_type": "code",
   "execution_count": 159,
   "metadata": {},
   "outputs": [],
   "source": [
    "Mapper={\"Yes\":1,\"No\":0}"
   ]
  },
  {
   "cell_type": "code",
   "execution_count": 160,
   "metadata": {},
   "outputs": [],
   "source": [
    "y_test_temp=list(map(Mapper.get, y_test))"
   ]
  },
  {
   "cell_type": "code",
   "execution_count": 161,
   "metadata": {},
   "outputs": [],
   "source": [
    "Predictions_temp=list(map(Mapper.get, Predictions))"
   ]
  },
  {
   "cell_type": "code",
   "execution_count": 162,
   "metadata": {},
   "outputs": [],
   "source": [
    "This_5= roc_auc_score(y_test_temp, Predictions_temp)"
   ]
  },
  {
   "cell_type": "code",
   "execution_count": 163,
   "metadata": {},
   "outputs": [
    {
     "name": "stdout",
     "output_type": "stream",
     "text": [
      " AUC-ROC score is 0.7959959932860469\n"
     ]
    }
   ],
   "source": [
    "print(f\" AUC-ROC score is {This_5}\")"
   ]
  },
  {
   "cell_type": "code",
   "execution_count": 164,
   "metadata": {},
   "outputs": [],
   "source": [
    "fpr5, tpr5, _ = roc_curve(y_test_temp, Predictions_temp)"
   ]
  },
  {
   "cell_type": "code",
   "execution_count": null,
   "metadata": {},
   "outputs": [],
   "source": []
  },
  {
   "cell_type": "markdown",
   "metadata": {},
   "source": [
    "##### =================================================================================================================="
   ]
  },
  {
   "cell_type": "markdown",
   "metadata": {},
   "source": [
    "### Classification model 5 - We are using the imbalanced dataset and PCA is performed"
   ]
  },
  {
   "cell_type": "markdown",
   "metadata": {},
   "source": [
    "##### =================================================================================================================="
   ]
  },
  {
   "cell_type": "markdown",
   "metadata": {},
   "source": [
    "- Intent here is that our dataset is not balanced, and we are sampling and balancing it (For each positive sample, 2 negative samples are chosen)\n",
    "\n",
    "\n",
    "- Random Forest model is used\n",
    "\n",
    "\n",
    "- PCA is used to find 95% variance and distribution of that along the features\n",
    "\n"
   ]
  },
  {
   "cell_type": "code",
   "execution_count": null,
   "metadata": {},
   "outputs": [],
   "source": []
  },
  {
   "cell_type": "code",
   "execution_count": 165,
   "metadata": {},
   "outputs": [],
   "source": [
    "DF=DF_One.copy()"
   ]
  },
  {
   "cell_type": "code",
   "execution_count": 166,
   "metadata": {},
   "outputs": [
    {
     "data": {
      "text/plain": [
       "No     11177\n",
       "Yes      857\n",
       "Name: Match, dtype: int64"
      ]
     },
     "execution_count": 166,
     "metadata": {},
     "output_type": "execute_result"
    }
   ],
   "source": [
    "DF.Match.value_counts()"
   ]
  },
  {
   "cell_type": "code",
   "execution_count": 167,
   "metadata": {},
   "outputs": [],
   "source": [
    "DF.drop(columns=\"feature_transaction_id\",inplace=True)"
   ]
  },
  {
   "cell_type": "code",
   "execution_count": 168,
   "metadata": {},
   "outputs": [],
   "source": [
    "X=DF.iloc[:,:-1]\n",
    "Y=DF.iloc[:,-1]"
   ]
  },
  {
   "cell_type": "code",
   "execution_count": 169,
   "metadata": {},
   "outputs": [
    {
     "data": {
      "text/html": [
       "<div>\n",
       "<style scoped>\n",
       "    .dataframe tbody tr th:only-of-type {\n",
       "        vertical-align: middle;\n",
       "    }\n",
       "\n",
       "    .dataframe tbody tr th {\n",
       "        vertical-align: top;\n",
       "    }\n",
       "\n",
       "    .dataframe thead th {\n",
       "        text-align: right;\n",
       "    }\n",
       "</style>\n",
       "<table border=\"1\" class=\"dataframe\">\n",
       "  <thead>\n",
       "    <tr style=\"text-align: right;\">\n",
       "      <th></th>\n",
       "      <th>receipt_id</th>\n",
       "      <th>company_id</th>\n",
       "      <th>matched_transaction_id</th>\n",
       "      <th>DateMappingMatch</th>\n",
       "      <th>AmountMappingMatch</th>\n",
       "      <th>DescriptionMatch</th>\n",
       "      <th>TimeMappingMatch</th>\n",
       "      <th>PredictedNameMatch</th>\n",
       "      <th>ShortNameMatch</th>\n",
       "      <th>DifferentPredictedDate</th>\n",
       "      <th>PredictedAmountMatch</th>\n",
       "      <th>PredictedTimeCloseMatch</th>\n",
       "    </tr>\n",
       "  </thead>\n",
       "  <tbody>\n",
       "    <tr>\n",
       "      <th>0</th>\n",
       "      <td>10000.0</td>\n",
       "      <td>10000</td>\n",
       "      <td>10468.0</td>\n",
       "      <td>0</td>\n",
       "      <td>0</td>\n",
       "      <td>0</td>\n",
       "      <td>0</td>\n",
       "      <td>0</td>\n",
       "      <td>0</td>\n",
       "      <td>1</td>\n",
       "      <td>0</td>\n",
       "      <td>0</td>\n",
       "    </tr>\n",
       "    <tr>\n",
       "      <th>1</th>\n",
       "      <td>10000.0</td>\n",
       "      <td>10000</td>\n",
       "      <td>10468.0</td>\n",
       "      <td>0</td>\n",
       "      <td>0</td>\n",
       "      <td>0</td>\n",
       "      <td>0</td>\n",
       "      <td>0</td>\n",
       "      <td>0</td>\n",
       "      <td>1</td>\n",
       "      <td>0</td>\n",
       "      <td>0</td>\n",
       "    </tr>\n",
       "    <tr>\n",
       "      <th>2</th>\n",
       "      <td>10000.0</td>\n",
       "      <td>10000</td>\n",
       "      <td>10468.0</td>\n",
       "      <td>0</td>\n",
       "      <td>0</td>\n",
       "      <td>0</td>\n",
       "      <td>0</td>\n",
       "      <td>0</td>\n",
       "      <td>0</td>\n",
       "      <td>1</td>\n",
       "      <td>0</td>\n",
       "      <td>0</td>\n",
       "    </tr>\n",
       "  </tbody>\n",
       "</table>\n",
       "</div>"
      ],
      "text/plain": [
       "   receipt_id  company_id  matched_transaction_id  DateMappingMatch  \\\n",
       "0     10000.0       10000                 10468.0                 0   \n",
       "1     10000.0       10000                 10468.0                 0   \n",
       "2     10000.0       10000                 10468.0                 0   \n",
       "\n",
       "   AmountMappingMatch  DescriptionMatch  TimeMappingMatch  PredictedNameMatch  \\\n",
       "0                   0                 0                 0                   0   \n",
       "1                   0                 0                 0                   0   \n",
       "2                   0                 0                 0                   0   \n",
       "\n",
       "   ShortNameMatch  DifferentPredictedDate  PredictedAmountMatch  \\\n",
       "0               0                       1                     0   \n",
       "1               0                       1                     0   \n",
       "2               0                       1                     0   \n",
       "\n",
       "   PredictedTimeCloseMatch  \n",
       "0                        0  \n",
       "1                        0  \n",
       "2                        0  "
      ]
     },
     "execution_count": 169,
     "metadata": {},
     "output_type": "execute_result"
    }
   ],
   "source": [
    "X.head(3)"
   ]
  },
  {
   "cell_type": "code",
   "execution_count": 170,
   "metadata": {},
   "outputs": [],
   "source": [
    "Scaler=StandardScaler()"
   ]
  },
  {
   "cell_type": "code",
   "execution_count": 171,
   "metadata": {},
   "outputs": [],
   "source": [
    "Scaled=Scaler.fit_transform(X)"
   ]
  },
  {
   "cell_type": "code",
   "execution_count": 174,
   "metadata": {},
   "outputs": [],
   "source": [
    "pca = PCA(.95)\n",
    "principalComponents = pca.fit_transform(Scaled)\n",
    "#principalDf = pd.DataFrame(data = principalComponents"
   ]
  },
  {
   "cell_type": "code",
   "execution_count": 175,
   "metadata": {},
   "outputs": [],
   "source": [
    "X_train, X_test, y_train, y_test = train_test_split(principalComponents, Y, test_size=0.30)"
   ]
  },
  {
   "cell_type": "code",
   "execution_count": 176,
   "metadata": {},
   "outputs": [],
   "source": [
    "Model = RandomForestClassifier()"
   ]
  },
  {
   "cell_type": "code",
   "execution_count": 177,
   "metadata": {},
   "outputs": [
    {
     "data": {
      "text/plain": [
       "RandomForestClassifier()"
      ]
     },
     "execution_count": 177,
     "metadata": {},
     "output_type": "execute_result"
    }
   ],
   "source": [
    "Model.fit(X_train,y_train)"
   ]
  },
  {
   "cell_type": "code",
   "execution_count": 178,
   "metadata": {},
   "outputs": [
    {
     "name": "stdout",
     "output_type": "stream",
     "text": [
      "Cross validation score of the model : 0.9425377745640737\n"
     ]
    }
   ],
   "source": [
    "print(f\"Cross validation score of the model : {cross_val_score(Model, X_train, y_train, cv=8).mean()}\")"
   ]
  },
  {
   "cell_type": "code",
   "execution_count": 179,
   "metadata": {},
   "outputs": [],
   "source": [
    "Predictions=Model.predict(X_test)"
   ]
  },
  {
   "cell_type": "code",
   "execution_count": 180,
   "metadata": {},
   "outputs": [
    {
     "name": "stdout",
     "output_type": "stream",
     "text": [
      "[[3295   64]\n",
      " [ 131  121]]\n"
     ]
    }
   ],
   "source": [
    "cf_matrix = confusion_matrix(y_test, Predictions)\n",
    "print(cf_matrix)"
   ]
  },
  {
   "cell_type": "code",
   "execution_count": 181,
   "metadata": {},
   "outputs": [
    {
     "data": {
      "text/plain": [
       "<AxesSubplot:>"
      ]
     },
     "execution_count": 181,
     "metadata": {},
     "output_type": "execute_result"
    },
    {
     "data": {
      "image/png": "[encoded data removed]",
      "text/plain": [
       "<Figure size 720x720 with 2 Axes>"
      ]
     },
     "metadata": {
      "needs_background": "light"
     },
     "output_type": "display_data"
    }
   ],
   "source": [
    "fig, ax = plt.subplots(figsize=(10,10))  \n",
    "group_names = [\"True Neg\",\"False Pos\",\"False Neg\",\"True Pos\"]\n",
    "group_counts = [\"{0:0.0f}\".format(value) for value in\n",
    "                cf_matrix.flatten()]\n",
    "group_percentages = [\"{0:.2%}\".format(value) for value in\n",
    "                     cf_matrix.flatten()/np.sum(cf_matrix)]\n",
    "labels = [f\"{v1}\\n{v2}\\n{v3}\" for v1, v2, v3 in\n",
    "          zip(group_names,group_counts,group_percentages)]\n",
    "labels = np.asarray(labels).reshape(2,2)\n",
    "sns.heatmap(cf_matrix, annot=labels, fmt='', cmap='Blues', ax=ax)"
   ]
  },
  {
   "cell_type": "code",
   "execution_count": 182,
   "metadata": {},
   "outputs": [
    {
     "name": "stdout",
     "output_type": "stream",
     "text": [
      "              precision    recall  f1-score   support\n",
      "\n",
      "          No       0.96      0.98      0.97      3359\n",
      "         Yes       0.65      0.48      0.55       252\n",
      "\n",
      "    accuracy                           0.95      3611\n",
      "   macro avg       0.81      0.73      0.76      3611\n",
      "weighted avg       0.94      0.95      0.94      3611\n",
      "\n"
     ]
    }
   ],
   "source": [
    "print(classification_report(y_test, Predictions))"
   ]
  },
  {
   "cell_type": "code",
   "execution_count": 183,
   "metadata": {},
   "outputs": [],
   "source": [
    "Mapper={\"Yes\":1,\"No\":0}"
   ]
  },
  {
   "cell_type": "code",
   "execution_count": 184,
   "metadata": {},
   "outputs": [],
   "source": [
    "y_test_temp=list(map(Mapper.get, y_test))"
   ]
  },
  {
   "cell_type": "code",
   "execution_count": 185,
   "metadata": {},
   "outputs": [],
   "source": [
    "Predictions_temp=list(map(Mapper.get, Predictions))"
   ]
  },
  {
   "cell_type": "code",
   "execution_count": 186,
   "metadata": {},
   "outputs": [],
   "source": [
    "This_6= roc_auc_score(y_test_temp, Predictions_temp)"
   ]
  },
  {
   "cell_type": "code",
   "execution_count": 187,
   "metadata": {},
   "outputs": [
    {
     "name": "stdout",
     "output_type": "stream",
     "text": [
      " AUC-ROC score is 0.7305527202445928\n"
     ]
    }
   ],
   "source": [
    "print(f\" AUC-ROC score is {This_6}\")"
   ]
  },
  {
   "cell_type": "code",
   "execution_count": 188,
   "metadata": {},
   "outputs": [],
   "source": [
    "fpr6, tpr6, _ = roc_curve(y_test_temp, Predictions_temp)"
   ]
  },
  {
   "cell_type": "code",
   "execution_count": null,
   "metadata": {},
   "outputs": [],
   "source": []
  },
  {
   "cell_type": "markdown",
   "metadata": {},
   "source": [
    "##### =================================================================================================================="
   ]
  },
  {
   "cell_type": "markdown",
   "metadata": {},
   "source": [
    "### Comparing AUC-ROC curves"
   ]
  },
  {
   "cell_type": "markdown",
   "metadata": {},
   "source": [
    "##### =================================================================================================================="
   ]
  },
  {
   "cell_type": "markdown",
   "metadata": {},
   "source": [
    "- Here we are comparing all the models on the basis of their AUC-ROC curves\n",
    "\n",
    "\n",
    "##### <u>LEGEND</u>\n",
    "\n",
    "\n",
    "- Model 1 - Sampled equally, using all features\n",
    "\n",
    "\n",
    "- Model 2 - Sampled equally, using Weightage column (Other features dropped)\n",
    "\n",
    "\n",
    "- Model 3 - Sampled in 1:2 ratio (One positive would have 2 Negative samples)\n",
    "\n",
    "\n",
    "- Model 4 - No sampling, all data is used \n",
    "\n",
    "\n",
    "- Model 5 - No sampling, all data is used using SMOTE to account for imbalance\n",
    "\n",
    "\n",
    "- Model 6 - No sampling, PCA is used\n"
   ]
  },
  {
   "cell_type": "code",
   "execution_count": null,
   "metadata": {},
   "outputs": [],
   "source": []
  },
  {
   "cell_type": "code",
   "execution_count": 189,
   "metadata": {},
   "outputs": [
    {
     "data": {
      "image/png": "[encoded data removed]",
      "text/plain": [
       "<Figure size 864x576 with 1 Axes>"
      ]
     },
     "metadata": {
      "needs_background": "light"
     },
     "output_type": "display_data"
    }
   ],
   "source": [
    "plt.figure(figsize=(12,8))\n",
    "plt.plot([0,1],[0,1], 'k--', label=\"Median\")\n",
    "plt.plot(fpr1, tpr1, label= \"Model1\")\n",
    "plt.plot(fpr2, tpr2, label= \"Model2\")\n",
    "plt.plot(fpr3, tpr3, label= \"Model3\")\n",
    "plt.plot(fpr4, tpr4, label= \"Model4\")\n",
    "plt.plot(fpr5, tpr5, label= \"Model5\")\n",
    "plt.plot(fpr6, tpr6, label= \"Model6\")\n",
    "plt.legend()\n",
    "plt.xlabel(\"FPR\")\n",
    "plt.ylabel(\"TPR\")\n",
    "plt.title('Receiver Operating Characteristic')\n",
    "plt.show()"
   ]
  },
  {
   "cell_type": "markdown",
   "metadata": {},
   "source": [
    "- <b>Inference</b> - Based on the AUC ROC curves above, I have elected to proceed with Model 2, which was sampled equally (Trained on equal data <i>(Positive and Negative)</i> sampled from the dataset provided)\n",
    "\n",
    "Note : However, based on the use case, other models can be employed. This depends more on what sort of a business objective you're trying to focus toward"
   ]
  },
  {
   "cell_type": "code",
   "execution_count": null,
   "metadata": {},
   "outputs": [],
   "source": []
  },
  {
   "cell_type": "markdown",
   "metadata": {},
   "source": [
    "##### =================================================================================================================="
   ]
  },
  {
   "cell_type": "markdown",
   "metadata": {},
   "source": [
    "### Prediction Model, consuming Model 1"
   ]
  },
  {
   "cell_type": "markdown",
   "metadata": {},
   "source": [
    "##### =================================================================================================================="
   ]
  },
  {
   "cell_type": "markdown",
   "metadata": {},
   "source": [
    "- Here we are using Model 1 from above\n",
    "\n",
    "\n",
    "\n",
    "- We are defining a function which takes in data and does all pre-processing steps\n",
    "\n",
    "\n",
    "\n",
    "- Then as an output, we are returning a Dataframe which is sorted by Weightage\n",
    "\n",
    "\n",
    "\n"
   ]
  },
  {
   "cell_type": "code",
   "execution_count": 190,
   "metadata": {},
   "outputs": [],
   "source": [
    "def Preprocess(Data):\n",
    "    Binaries = ['DifferentPredictedDate','PredictedTimeCloseMatch','ShortNameMatch','TimeMappingMatch']\n",
    "    Needed=['AmountMappingMatch',\n",
    "             'PredictedNameMatch',\n",
    "             'PredictedAmountMatch',\n",
    "             'DescriptionMatch',\n",
    "             'DateMappingMatch']\n",
    "\n",
    "    if \"DifferentPredictedTime\" in Data.columns: \n",
    "        Data.drop(columns=\"DifferentPredictedTime\",inplace=True)\n",
    "        \n",
    "    if \"feature_transaction_id\" in Data.columns: \n",
    "        Data.drop(columns=\"feature_transaction_id\",inplace=True)\n",
    "        \n",
    "    if not Data.matched_transaction_id.dtype=='float64':\n",
    "        Data.matched_transaction_id=Data.matched_transaction_id.str.replace(',', '').astype(float)\n",
    "    #if not Data.feature_transaction_id.dtype=='float64':\n",
    "        #Data.feature_transaction_id=Data.feature_transaction_id.str.replace(',', '').astype(float)\n",
    "    if not Data.receipt_id.dtype=='float64':\n",
    "        Data.receipt_id=Data.receipt_id.str.replace(',', '').astype(float)\n",
    "        \n",
    "    for x in Binaries:\n",
    "        Data[x]=Data[x].astype('category').cat.codes\n",
    "    for x in Needed:\n",
    "        Data[x]=pd.cut(Data[x], bins=[-1, .4, .6, .8, 1])\n",
    "        Data[x]=Data[x].cat.codes\n",
    "    Data[\"Weightage\"]=Data.DateMappingMatch+Data.AmountMappingMatch+Data.DescriptionMatch+Data.TimeMappingMatch+Data.PredictedNameMatch+Data.ShortNameMatch+Data.DifferentPredictedDate+Data.PredictedAmountMatch+Data.PredictedTimeCloseMatch\n",
    "    #print(Data.columns)\n",
    "    Predictions=Final_Model.predict(Data.iloc[:,:-1])\n",
    "    Data[\"Match\"]=Predictions\n",
    "    Data=Data.sort_values(by=[\"matched_transaction_id\",\"Weightage\"], ascending =[True, False])\n",
    "    return Data    "
   ]
  },
  {
   "cell_type": "code",
   "execution_count": 191,
   "metadata": {},
   "outputs": [],
   "source": [
    "Data=pd.read_csv(\"./Desktop/Tide_test_DS/Tide_test_DS/data_interview_test.csv\",sep=\":\",nrows=200)"
   ]
  },
  {
   "cell_type": "code",
   "execution_count": null,
   "metadata": {},
   "outputs": [],
   "source": []
  },
  {
   "cell_type": "code",
   "execution_count": 192,
   "metadata": {},
   "outputs": [],
   "source": [
    "Required=Preprocess(Data)\n",
    "\n",
    "    "
   ]
  },
  {
   "cell_type": "code",
   "execution_count": 193,
   "metadata": {},
   "outputs": [
    {
     "data": {
      "text/html": [
       "<div>\n",
       "<style scoped>\n",
       "    .dataframe tbody tr th:only-of-type {\n",
       "        vertical-align: middle;\n",
       "    }\n",
       "\n",
       "    .dataframe tbody tr th {\n",
       "        vertical-align: top;\n",
       "    }\n",
       "\n",
       "    .dataframe thead th {\n",
       "        text-align: right;\n",
       "    }\n",
       "</style>\n",
       "<table border=\"1\" class=\"dataframe\">\n",
       "  <thead>\n",
       "    <tr style=\"text-align: right;\">\n",
       "      <th></th>\n",
       "      <th>receipt_id</th>\n",
       "      <th>company_id</th>\n",
       "      <th>matched_transaction_id</th>\n",
       "      <th>DateMappingMatch</th>\n",
       "      <th>AmountMappingMatch</th>\n",
       "      <th>DescriptionMatch</th>\n",
       "      <th>TimeMappingMatch</th>\n",
       "      <th>PredictedNameMatch</th>\n",
       "      <th>ShortNameMatch</th>\n",
       "      <th>DifferentPredictedDate</th>\n",
       "      <th>PredictedAmountMatch</th>\n",
       "      <th>PredictedTimeCloseMatch</th>\n",
       "      <th>Weightage</th>\n",
       "      <th>Match</th>\n",
       "    </tr>\n",
       "  </thead>\n",
       "  <tbody>\n",
       "    <tr>\n",
       "      <th>22</th>\n",
       "      <td>10001.0</td>\n",
       "      <td>10000</td>\n",
       "      <td>10605.0</td>\n",
       "      <td>0</td>\n",
       "      <td>0</td>\n",
       "      <td>0</td>\n",
       "      <td>0</td>\n",
       "      <td>0</td>\n",
       "      <td>0</td>\n",
       "      <td>1</td>\n",
       "      <td>0</td>\n",
       "      <td>0</td>\n",
       "      <td>1</td>\n",
       "      <td>No</td>\n",
       "    </tr>\n",
       "    <tr>\n",
       "      <th>23</th>\n",
       "      <td>10001.0</td>\n",
       "      <td>10000</td>\n",
       "      <td>10605.0</td>\n",
       "      <td>0</td>\n",
       "      <td>0</td>\n",
       "      <td>0</td>\n",
       "      <td>0</td>\n",
       "      <td>0</td>\n",
       "      <td>0</td>\n",
       "      <td>1</td>\n",
       "      <td>0</td>\n",
       "      <td>0</td>\n",
       "      <td>1</td>\n",
       "      <td>No</td>\n",
       "    </tr>\n",
       "    <tr>\n",
       "      <th>24</th>\n",
       "      <td>10001.0</td>\n",
       "      <td>10000</td>\n",
       "      <td>10605.0</td>\n",
       "      <td>0</td>\n",
       "      <td>0</td>\n",
       "      <td>0</td>\n",
       "      <td>0</td>\n",
       "      <td>0</td>\n",
       "      <td>0</td>\n",
       "      <td>1</td>\n",
       "      <td>0</td>\n",
       "      <td>0</td>\n",
       "      <td>1</td>\n",
       "      <td>No</td>\n",
       "    </tr>\n",
       "    <tr>\n",
       "      <th>170</th>\n",
       "      <td>10011.0</td>\n",
       "      <td>10000</td>\n",
       "      <td>10659.0</td>\n",
       "      <td>3</td>\n",
       "      <td>0</td>\n",
       "      <td>0</td>\n",
       "      <td>0</td>\n",
       "      <td>1</td>\n",
       "      <td>0</td>\n",
       "      <td>0</td>\n",
       "      <td>0</td>\n",
       "      <td>1</td>\n",
       "      <td>5</td>\n",
       "      <td>Yes</td>\n",
       "    </tr>\n",
       "    <tr>\n",
       "      <th>165</th>\n",
       "      <td>10011.0</td>\n",
       "      <td>10000</td>\n",
       "      <td>10659.0</td>\n",
       "      <td>2</td>\n",
       "      <td>0</td>\n",
       "      <td>1</td>\n",
       "      <td>0</td>\n",
       "      <td>0</td>\n",
       "      <td>0</td>\n",
       "      <td>0</td>\n",
       "      <td>0</td>\n",
       "      <td>0</td>\n",
       "      <td>3</td>\n",
       "      <td>No</td>\n",
       "    </tr>\n",
       "    <tr>\n",
       "      <th>169</th>\n",
       "      <td>10011.0</td>\n",
       "      <td>10000</td>\n",
       "      <td>10659.0</td>\n",
       "      <td>3</td>\n",
       "      <td>0</td>\n",
       "      <td>0</td>\n",
       "      <td>0</td>\n",
       "      <td>0</td>\n",
       "      <td>0</td>\n",
       "      <td>0</td>\n",
       "      <td>0</td>\n",
       "      <td>0</td>\n",
       "      <td>3</td>\n",
       "      <td>No</td>\n",
       "    </tr>\n",
       "    <tr>\n",
       "      <th>163</th>\n",
       "      <td>10011.0</td>\n",
       "      <td>10000</td>\n",
       "      <td>10659.0</td>\n",
       "      <td>2</td>\n",
       "      <td>0</td>\n",
       "      <td>0</td>\n",
       "      <td>0</td>\n",
       "      <td>0</td>\n",
       "      <td>0</td>\n",
       "      <td>0</td>\n",
       "      <td>0</td>\n",
       "      <td>0</td>\n",
       "      <td>2</td>\n",
       "      <td>No</td>\n",
       "    </tr>\n",
       "    <tr>\n",
       "      <th>164</th>\n",
       "      <td>10011.0</td>\n",
       "      <td>10000</td>\n",
       "      <td>10659.0</td>\n",
       "      <td>2</td>\n",
       "      <td>0</td>\n",
       "      <td>0</td>\n",
       "      <td>0</td>\n",
       "      <td>0</td>\n",
       "      <td>0</td>\n",
       "      <td>0</td>\n",
       "      <td>0</td>\n",
       "      <td>0</td>\n",
       "      <td>2</td>\n",
       "      <td>No</td>\n",
       "    </tr>\n",
       "    <tr>\n",
       "      <th>154</th>\n",
       "      <td>10011.0</td>\n",
       "      <td>10000</td>\n",
       "      <td>10659.0</td>\n",
       "      <td>0</td>\n",
       "      <td>0</td>\n",
       "      <td>0</td>\n",
       "      <td>0</td>\n",
       "      <td>0</td>\n",
       "      <td>0</td>\n",
       "      <td>1</td>\n",
       "      <td>0</td>\n",
       "      <td>0</td>\n",
       "      <td>1</td>\n",
       "      <td>No</td>\n",
       "    </tr>\n",
       "    <tr>\n",
       "      <th>155</th>\n",
       "      <td>10011.0</td>\n",
       "      <td>10000</td>\n",
       "      <td>10659.0</td>\n",
       "      <td>0</td>\n",
       "      <td>0</td>\n",
       "      <td>0</td>\n",
       "      <td>0</td>\n",
       "      <td>0</td>\n",
       "      <td>0</td>\n",
       "      <td>1</td>\n",
       "      <td>0</td>\n",
       "      <td>0</td>\n",
       "      <td>1</td>\n",
       "      <td>No</td>\n",
       "    </tr>\n",
       "    <tr>\n",
       "      <th>156</th>\n",
       "      <td>10011.0</td>\n",
       "      <td>10000</td>\n",
       "      <td>10659.0</td>\n",
       "      <td>0</td>\n",
       "      <td>0</td>\n",
       "      <td>0</td>\n",
       "      <td>0</td>\n",
       "      <td>0</td>\n",
       "      <td>0</td>\n",
       "      <td>1</td>\n",
       "      <td>0</td>\n",
       "      <td>0</td>\n",
       "      <td>1</td>\n",
       "      <td>No</td>\n",
       "    </tr>\n",
       "    <tr>\n",
       "      <th>157</th>\n",
       "      <td>10011.0</td>\n",
       "      <td>10000</td>\n",
       "      <td>10659.0</td>\n",
       "      <td>0</td>\n",
       "      <td>0</td>\n",
       "      <td>0</td>\n",
       "      <td>0</td>\n",
       "      <td>0</td>\n",
       "      <td>0</td>\n",
       "      <td>1</td>\n",
       "      <td>0</td>\n",
       "      <td>0</td>\n",
       "      <td>1</td>\n",
       "      <td>No</td>\n",
       "    </tr>\n",
       "    <tr>\n",
       "      <th>158</th>\n",
       "      <td>10011.0</td>\n",
       "      <td>10000</td>\n",
       "      <td>10659.0</td>\n",
       "      <td>0</td>\n",
       "      <td>0</td>\n",
       "      <td>0</td>\n",
       "      <td>0</td>\n",
       "      <td>0</td>\n",
       "      <td>0</td>\n",
       "      <td>1</td>\n",
       "      <td>0</td>\n",
       "      <td>0</td>\n",
       "      <td>1</td>\n",
       "      <td>No</td>\n",
       "    </tr>\n",
       "    <tr>\n",
       "      <th>159</th>\n",
       "      <td>10011.0</td>\n",
       "      <td>10000</td>\n",
       "      <td>10659.0</td>\n",
       "      <td>0</td>\n",
       "      <td>0</td>\n",
       "      <td>0</td>\n",
       "      <td>0</td>\n",
       "      <td>0</td>\n",
       "      <td>0</td>\n",
       "      <td>1</td>\n",
       "      <td>0</td>\n",
       "      <td>0</td>\n",
       "      <td>1</td>\n",
       "      <td>No</td>\n",
       "    </tr>\n",
       "    <tr>\n",
       "      <th>160</th>\n",
       "      <td>10011.0</td>\n",
       "      <td>10000</td>\n",
       "      <td>10659.0</td>\n",
       "      <td>0</td>\n",
       "      <td>0</td>\n",
       "      <td>0</td>\n",
       "      <td>0</td>\n",
       "      <td>0</td>\n",
       "      <td>0</td>\n",
       "      <td>1</td>\n",
       "      <td>0</td>\n",
       "      <td>0</td>\n",
       "      <td>1</td>\n",
       "      <td>No</td>\n",
       "    </tr>\n",
       "    <tr>\n",
       "      <th>161</th>\n",
       "      <td>10011.0</td>\n",
       "      <td>10000</td>\n",
       "      <td>10659.0</td>\n",
       "      <td>0</td>\n",
       "      <td>0</td>\n",
       "      <td>0</td>\n",
       "      <td>0</td>\n",
       "      <td>0</td>\n",
       "      <td>0</td>\n",
       "      <td>1</td>\n",
       "      <td>0</td>\n",
       "      <td>0</td>\n",
       "      <td>1</td>\n",
       "      <td>No</td>\n",
       "    </tr>\n",
       "    <tr>\n",
       "      <th>162</th>\n",
       "      <td>10011.0</td>\n",
       "      <td>10000</td>\n",
       "      <td>10659.0</td>\n",
       "      <td>0</td>\n",
       "      <td>0</td>\n",
       "      <td>0</td>\n",
       "      <td>0</td>\n",
       "      <td>0</td>\n",
       "      <td>0</td>\n",
       "      <td>1</td>\n",
       "      <td>0</td>\n",
       "      <td>0</td>\n",
       "      <td>1</td>\n",
       "      <td>No</td>\n",
       "    </tr>\n",
       "    <tr>\n",
       "      <th>166</th>\n",
       "      <td>10011.0</td>\n",
       "      <td>10000</td>\n",
       "      <td>10659.0</td>\n",
       "      <td>0</td>\n",
       "      <td>0</td>\n",
       "      <td>0</td>\n",
       "      <td>0</td>\n",
       "      <td>0</td>\n",
       "      <td>0</td>\n",
       "      <td>1</td>\n",
       "      <td>0</td>\n",
       "      <td>0</td>\n",
       "      <td>1</td>\n",
       "      <td>No</td>\n",
       "    </tr>\n",
       "    <tr>\n",
       "      <th>167</th>\n",
       "      <td>10011.0</td>\n",
       "      <td>10000</td>\n",
       "      <td>10659.0</td>\n",
       "      <td>0</td>\n",
       "      <td>0</td>\n",
       "      <td>0</td>\n",
       "      <td>0</td>\n",
       "      <td>0</td>\n",
       "      <td>0</td>\n",
       "      <td>1</td>\n",
       "      <td>0</td>\n",
       "      <td>0</td>\n",
       "      <td>1</td>\n",
       "      <td>No</td>\n",
       "    </tr>\n",
       "    <tr>\n",
       "      <th>168</th>\n",
       "      <td>10011.0</td>\n",
       "      <td>10000</td>\n",
       "      <td>10659.0</td>\n",
       "      <td>0</td>\n",
       "      <td>0</td>\n",
       "      <td>0</td>\n",
       "      <td>0</td>\n",
       "      <td>0</td>\n",
       "      <td>0</td>\n",
       "      <td>1</td>\n",
       "      <td>0</td>\n",
       "      <td>0</td>\n",
       "      <td>1</td>\n",
       "      <td>No</td>\n",
       "    </tr>\n",
       "  </tbody>\n",
       "</table>\n",
       "</div>"
      ],
      "text/plain": [
       "     receipt_id  company_id  matched_transaction_id  DateMappingMatch  \\\n",
       "22      10001.0       10000                 10605.0                 0   \n",
       "23      10001.0       10000                 10605.0                 0   \n",
       "24      10001.0       10000                 10605.0                 0   \n",
       "170     10011.0       10000                 10659.0                 3   \n",
       "165     10011.0       10000                 10659.0                 2   \n",
       "169     10011.0       10000                 10659.0                 3   \n",
       "163     10011.0       10000                 10659.0                 2   \n",
       "164     10011.0       10000                 10659.0                 2   \n",
       "154     10011.0       10000                 10659.0                 0   \n",
       "155     10011.0       10000                 10659.0                 0   \n",
       "156     10011.0       10000                 10659.0                 0   \n",
       "157     10011.0       10000                 10659.0                 0   \n",
       "158     10011.0       10000                 10659.0                 0   \n",
       "159     10011.0       10000                 10659.0                 0   \n",
       "160     10011.0       10000                 10659.0                 0   \n",
       "161     10011.0       10000                 10659.0                 0   \n",
       "162     10011.0       10000                 10659.0                 0   \n",
       "166     10011.0       10000                 10659.0                 0   \n",
       "167     10011.0       10000                 10659.0                 0   \n",
       "168     10011.0       10000                 10659.0                 0   \n",
       "\n",
       "     AmountMappingMatch  DescriptionMatch  TimeMappingMatch  \\\n",
       "22                    0                 0                 0   \n",
       "23                    0                 0                 0   \n",
       "24                    0                 0                 0   \n",
       "170                   0                 0                 0   \n",
       "165                   0                 1                 0   \n",
       "169                   0                 0                 0   \n",
       "163                   0                 0                 0   \n",
       "164                   0                 0                 0   \n",
       "154                   0                 0                 0   \n",
       "155                   0                 0                 0   \n",
       "156                   0                 0                 0   \n",
       "157                   0                 0                 0   \n",
       "158                   0                 0                 0   \n",
       "159                   0                 0                 0   \n",
       "160                   0                 0                 0   \n",
       "161                   0                 0                 0   \n",
       "162                   0                 0                 0   \n",
       "166                   0                 0                 0   \n",
       "167                   0                 0                 0   \n",
       "168                   0                 0                 0   \n",
       "\n",
       "     PredictedNameMatch  ShortNameMatch  DifferentPredictedDate  \\\n",
       "22                    0               0                       1   \n",
       "23                    0               0                       1   \n",
       "24                    0               0                       1   \n",
       "170                   1               0                       0   \n",
       "165                   0               0                       0   \n",
       "169                   0               0                       0   \n",
       "163                   0               0                       0   \n",
       "164                   0               0                       0   \n",
       "154                   0               0                       1   \n",
       "155                   0               0                       1   \n",
       "156                   0               0                       1   \n",
       "157                   0               0                       1   \n",
       "158                   0               0                       1   \n",
       "159                   0               0                       1   \n",
       "160                   0               0                       1   \n",
       "161                   0               0                       1   \n",
       "162                   0               0                       1   \n",
       "166                   0               0                       1   \n",
       "167                   0               0                       1   \n",
       "168                   0               0                       1   \n",
       "\n",
       "     PredictedAmountMatch  PredictedTimeCloseMatch  Weightage Match  \n",
       "22                      0                        0          1    No  \n",
       "23                      0                        0          1    No  \n",
       "24                      0                        0          1    No  \n",
       "170                     0                        1          5   Yes  \n",
       "165                     0                        0          3    No  \n",
       "169                     0                        0          3    No  \n",
       "163                     0                        0          2    No  \n",
       "164                     0                        0          2    No  \n",
       "154                     0                        0          1    No  \n",
       "155                     0                        0          1    No  \n",
       "156                     0                        0          1    No  \n",
       "157                     0                        0          1    No  \n",
       "158                     0                        0          1    No  \n",
       "159                     0                        0          1    No  \n",
       "160                     0                        0          1    No  \n",
       "161                     0                        0          1    No  \n",
       "162                     0                        0          1    No  \n",
       "166                     0                        0          1    No  \n",
       "167                     0                        0          1    No  \n",
       "168                     0                        0          1    No  "
      ]
     },
     "execution_count": 193,
     "metadata": {},
     "output_type": "execute_result"
    }
   ],
   "source": [
    "Required.tail(20)"
   ]
  },
  {
   "cell_type": "code",
   "execution_count": null,
   "metadata": {},
   "outputs": [],
   "source": []
  },
  {
   "cell_type": "markdown",
   "metadata": {},
   "source": [
    "##### =================================================================================================================="
   ]
  },
  {
   "cell_type": "markdown",
   "metadata": {},
   "source": [
    "### Alternative approach"
   ]
  },
  {
   "cell_type": "markdown",
   "metadata": {},
   "source": [
    "##### =================================================================================================================="
   ]
  },
  {
   "cell_type": "markdown",
   "metadata": {},
   "source": [
    "- Here are using a Scoring criteria to train a model\n",
    "\n",
    "\n",
    "- The idea here is to create Scores for each data row, which is a cumulative of all the Matched probabilities\n",
    "\n",
    "\n",
    "- Scoring for matched rows is given as a maximum (10)\n",
    "\n",
    "\n",
    "- This Scoring column is the Label\n",
    "\n",
    "\n",
    "- Model is trained in this manner\n",
    "\n",
    "\n",
    "\n"
   ]
  },
  {
   "cell_type": "code",
   "execution_count": 194,
   "metadata": {},
   "outputs": [],
   "source": [
    "DF=DF_One.copy()"
   ]
  },
  {
   "cell_type": "code",
   "execution_count": 195,
   "metadata": {},
   "outputs": [
    {
     "data": {
      "text/plain": [
       "No     11177\n",
       "Yes      857\n",
       "Name: Match, dtype: int64"
      ]
     },
     "execution_count": 195,
     "metadata": {},
     "output_type": "execute_result"
    }
   ],
   "source": [
    "DF.Match.value_counts()"
   ]
  },
  {
   "cell_type": "code",
   "execution_count": null,
   "metadata": {},
   "outputs": [],
   "source": []
  },
  {
   "cell_type": "code",
   "execution_count": 196,
   "metadata": {},
   "outputs": [],
   "source": [
    "#DF[\"Scoring\"]=DF.DateMappingMatch+DF.AmountMappingMatch+DF.DescriptionMatch+DF.TimeMappingMatch+DF.PredictedNameMatch+DF.ShortNameMatch+DF.DifferentPredictedDate+DF.PredictedAmountMatch+DF.PredictedTimeCloseMatch"
   ]
  },
  {
   "cell_type": "code",
   "execution_count": 197,
   "metadata": {},
   "outputs": [],
   "source": [
    "DF[\"Scoring\"]=np.where(DF.Match==\"Yes\", 10,DF.DateMappingMatch+DF.AmountMappingMatch+DF.DescriptionMatch+DF.TimeMappingMatch+DF.PredictedNameMatch+DF.ShortNameMatch+DF.DifferentPredictedDate+DF.PredictedAmountMatch+DF.PredictedTimeCloseMatch)"
   ]
  },
  {
   "cell_type": "code",
   "execution_count": 198,
   "metadata": {},
   "outputs": [
    {
     "data": {
      "text/plain": [
       "1     8286\n",
       "3     1765\n",
       "10     857\n",
       "2      764\n",
       "4      254\n",
       "5       73\n",
       "6       27\n",
       "7        8\n",
       "Name: Scoring, dtype: int64"
      ]
     },
     "execution_count": 198,
     "metadata": {},
     "output_type": "execute_result"
    }
   ],
   "source": [
    "DF.Scoring.value_counts()"
   ]
  },
  {
   "cell_type": "code",
   "execution_count": 199,
   "metadata": {},
   "outputs": [],
   "source": [
    "#DF.iloc[:,:-2]"
   ]
  },
  {
   "cell_type": "code",
   "execution_count": 200,
   "metadata": {},
   "outputs": [],
   "source": [
    "X=DF.iloc[:,:-2]\n",
    "Y=DF.Scoring"
   ]
  },
  {
   "cell_type": "code",
   "execution_count": 201,
   "metadata": {},
   "outputs": [],
   "source": [
    "X_train, X_test, y_train, y_test = train_test_split(X, Y, test_size=0.30)"
   ]
  },
  {
   "cell_type": "code",
   "execution_count": 202,
   "metadata": {},
   "outputs": [],
   "source": [
    "Temp=X_test.copy()"
   ]
  },
  {
   "cell_type": "code",
   "execution_count": 203,
   "metadata": {},
   "outputs": [],
   "source": [
    "X_train.drop(columns=\"feature_transaction_id\",inplace=True)\n",
    "X_test.drop(columns=\"feature_transaction_id\",inplace=True)"
   ]
  },
  {
   "cell_type": "code",
   "execution_count": 204,
   "metadata": {},
   "outputs": [],
   "source": [
    "# smt = SMOTE(random_state=0)\n",
    "# X_train_SMOTE, y_train_SMOTE = smt.fit_sample(X_train, y_train)"
   ]
  },
  {
   "cell_type": "code",
   "execution_count": 205,
   "metadata": {},
   "outputs": [],
   "source": [
    "# X_train_SMOTE.shape,y_train_SMOTE.shape"
   ]
  },
  {
   "cell_type": "code",
   "execution_count": 206,
   "metadata": {},
   "outputs": [],
   "source": [
    "#y_test.value_counts()"
   ]
  },
  {
   "cell_type": "code",
   "execution_count": 207,
   "metadata": {},
   "outputs": [],
   "source": [
    "Final_Model = RandomForestClassifier()"
   ]
  },
  {
   "cell_type": "code",
   "execution_count": 208,
   "metadata": {},
   "outputs": [
    {
     "data": {
      "text/plain": [
       "RandomForestClassifier()"
      ]
     },
     "execution_count": 208,
     "metadata": {},
     "output_type": "execute_result"
    }
   ],
   "source": [
    "Final_Model.fit(X_train,y_train)"
   ]
  },
  {
   "cell_type": "code",
   "execution_count": 209,
   "metadata": {},
   "outputs": [
    {
     "name": "stdout",
     "output_type": "stream",
     "text": [
      "Cross validation score of the model : 0.9432510408429293\n"
     ]
    }
   ],
   "source": [
    "print(f\"Cross validation score of the model : {cross_val_score(Final_Model, X_train, y_train, cv=8).mean()}\")"
   ]
  },
  {
   "cell_type": "code",
   "execution_count": 210,
   "metadata": {},
   "outputs": [],
   "source": [
    "#Model.fit(X_train_SMOTE,y_train_SMOTE)"
   ]
  },
  {
   "cell_type": "code",
   "execution_count": 211,
   "metadata": {},
   "outputs": [],
   "source": [
    "Predictions=Final_Model.predict(X_test)"
   ]
  },
  {
   "cell_type": "code",
   "execution_count": 212,
   "metadata": {},
   "outputs": [],
   "source": [
    "Temp[\"Preds\"]=Predictions\n",
    "Temp[\"Actual\"]=y_test"
   ]
  },
  {
   "cell_type": "code",
   "execution_count": 228,
   "metadata": {},
   "outputs": [],
   "source": [
    "# Recommendations would look like this"
   ]
  },
  {
   "cell_type": "code",
   "execution_count": 231,
   "metadata": {},
   "outputs": [
    {
     "data": {
      "text/html": [
       "<div>\n",
       "<style scoped>\n",
       "    .dataframe tbody tr th:only-of-type {\n",
       "        vertical-align: middle;\n",
       "    }\n",
       "\n",
       "    .dataframe tbody tr th {\n",
       "        vertical-align: top;\n",
       "    }\n",
       "\n",
       "    .dataframe thead th {\n",
       "        text-align: right;\n",
       "    }\n",
       "</style>\n",
       "<table border=\"1\" class=\"dataframe\">\n",
       "  <thead>\n",
       "    <tr style=\"text-align: right;\">\n",
       "      <th></th>\n",
       "      <th>receipt_id</th>\n",
       "      <th>company_id</th>\n",
       "      <th>matched_transaction_id</th>\n",
       "      <th>feature_transaction_id</th>\n",
       "      <th>DateMappingMatch</th>\n",
       "      <th>AmountMappingMatch</th>\n",
       "      <th>DescriptionMatch</th>\n",
       "      <th>TimeMappingMatch</th>\n",
       "      <th>PredictedNameMatch</th>\n",
       "      <th>ShortNameMatch</th>\n",
       "      <th>DifferentPredictedDate</th>\n",
       "      <th>PredictedAmountMatch</th>\n",
       "      <th>PredictedTimeCloseMatch</th>\n",
       "      <th>Preds</th>\n",
       "      <th>Actual</th>\n",
       "    </tr>\n",
       "  </thead>\n",
       "  <tbody>\n",
       "    <tr>\n",
       "      <th>7311</th>\n",
       "      <td>30203.0</td>\n",
       "      <td>30000</td>\n",
       "      <td>30398.0</td>\n",
       "      <td>30397.0</td>\n",
       "      <td>3</td>\n",
       "      <td>0</td>\n",
       "      <td>0</td>\n",
       "      <td>0</td>\n",
       "      <td>0</td>\n",
       "      <td>0</td>\n",
       "      <td>0</td>\n",
       "      <td>0</td>\n",
       "      <td>0</td>\n",
       "      <td>3</td>\n",
       "      <td>3</td>\n",
       "    </tr>\n",
       "    <tr>\n",
       "      <th>7312</th>\n",
       "      <td>30203.0</td>\n",
       "      <td>30000</td>\n",
       "      <td>30398.0</td>\n",
       "      <td>30398.0</td>\n",
       "      <td>3</td>\n",
       "      <td>0</td>\n",
       "      <td>0</td>\n",
       "      <td>0</td>\n",
       "      <td>0</td>\n",
       "      <td>0</td>\n",
       "      <td>0</td>\n",
       "      <td>0</td>\n",
       "      <td>0</td>\n",
       "      <td>3</td>\n",
       "      <td>10</td>\n",
       "    </tr>\n",
       "    <tr>\n",
       "      <th>7310</th>\n",
       "      <td>30203.0</td>\n",
       "      <td>30000</td>\n",
       "      <td>30398.0</td>\n",
       "      <td>30396.0</td>\n",
       "      <td>3</td>\n",
       "      <td>0</td>\n",
       "      <td>0</td>\n",
       "      <td>0</td>\n",
       "      <td>0</td>\n",
       "      <td>0</td>\n",
       "      <td>0</td>\n",
       "      <td>0</td>\n",
       "      <td>0</td>\n",
       "      <td>3</td>\n",
       "      <td>3</td>\n",
       "    </tr>\n",
       "    <tr>\n",
       "      <th>7301</th>\n",
       "      <td>30203.0</td>\n",
       "      <td>30000</td>\n",
       "      <td>30398.0</td>\n",
       "      <td>30387.0</td>\n",
       "      <td>0</td>\n",
       "      <td>0</td>\n",
       "      <td>0</td>\n",
       "      <td>0</td>\n",
       "      <td>0</td>\n",
       "      <td>0</td>\n",
       "      <td>1</td>\n",
       "      <td>0</td>\n",
       "      <td>0</td>\n",
       "      <td>1</td>\n",
       "      <td>1</td>\n",
       "    </tr>\n",
       "    <tr>\n",
       "      <th>7302</th>\n",
       "      <td>30203.0</td>\n",
       "      <td>30000</td>\n",
       "      <td>30398.0</td>\n",
       "      <td>30388.0</td>\n",
       "      <td>0</td>\n",
       "      <td>0</td>\n",
       "      <td>0</td>\n",
       "      <td>0</td>\n",
       "      <td>0</td>\n",
       "      <td>0</td>\n",
       "      <td>1</td>\n",
       "      <td>0</td>\n",
       "      <td>0</td>\n",
       "      <td>1</td>\n",
       "      <td>1</td>\n",
       "    </tr>\n",
       "    <tr>\n",
       "      <th>7295</th>\n",
       "      <td>30203.0</td>\n",
       "      <td>30000</td>\n",
       "      <td>30398.0</td>\n",
       "      <td>30255.0</td>\n",
       "      <td>0</td>\n",
       "      <td>0</td>\n",
       "      <td>0</td>\n",
       "      <td>0</td>\n",
       "      <td>0</td>\n",
       "      <td>0</td>\n",
       "      <td>1</td>\n",
       "      <td>0</td>\n",
       "      <td>0</td>\n",
       "      <td>1</td>\n",
       "      <td>1</td>\n",
       "    </tr>\n",
       "    <tr>\n",
       "      <th>7299</th>\n",
       "      <td>30203.0</td>\n",
       "      <td>30000</td>\n",
       "      <td>30398.0</td>\n",
       "      <td>30383.0</td>\n",
       "      <td>0</td>\n",
       "      <td>0</td>\n",
       "      <td>0</td>\n",
       "      <td>0</td>\n",
       "      <td>0</td>\n",
       "      <td>0</td>\n",
       "      <td>1</td>\n",
       "      <td>0</td>\n",
       "      <td>0</td>\n",
       "      <td>1</td>\n",
       "      <td>1</td>\n",
       "    </tr>\n",
       "    <tr>\n",
       "      <th>7305</th>\n",
       "      <td>30203.0</td>\n",
       "      <td>30000</td>\n",
       "      <td>30398.0</td>\n",
       "      <td>30391.0</td>\n",
       "      <td>0</td>\n",
       "      <td>0</td>\n",
       "      <td>0</td>\n",
       "      <td>0</td>\n",
       "      <td>0</td>\n",
       "      <td>0</td>\n",
       "      <td>1</td>\n",
       "      <td>0</td>\n",
       "      <td>0</td>\n",
       "      <td>1</td>\n",
       "      <td>1</td>\n",
       "    </tr>\n",
       "    <tr>\n",
       "      <th>7297</th>\n",
       "      <td>30203.0</td>\n",
       "      <td>30000</td>\n",
       "      <td>30398.0</td>\n",
       "      <td>30257.0</td>\n",
       "      <td>0</td>\n",
       "      <td>0</td>\n",
       "      <td>0</td>\n",
       "      <td>0</td>\n",
       "      <td>0</td>\n",
       "      <td>0</td>\n",
       "      <td>1</td>\n",
       "      <td>0</td>\n",
       "      <td>0</td>\n",
       "      <td>1</td>\n",
       "      <td>1</td>\n",
       "    </tr>\n",
       "    <tr>\n",
       "      <th>7296</th>\n",
       "      <td>30203.0</td>\n",
       "      <td>30000</td>\n",
       "      <td>30398.0</td>\n",
       "      <td>30256.0</td>\n",
       "      <td>0</td>\n",
       "      <td>0</td>\n",
       "      <td>0</td>\n",
       "      <td>0</td>\n",
       "      <td>0</td>\n",
       "      <td>0</td>\n",
       "      <td>1</td>\n",
       "      <td>0</td>\n",
       "      <td>0</td>\n",
       "      <td>1</td>\n",
       "      <td>1</td>\n",
       "    </tr>\n",
       "    <tr>\n",
       "      <th>7307</th>\n",
       "      <td>30203.0</td>\n",
       "      <td>30000</td>\n",
       "      <td>30398.0</td>\n",
       "      <td>30393.0</td>\n",
       "      <td>0</td>\n",
       "      <td>0</td>\n",
       "      <td>0</td>\n",
       "      <td>0</td>\n",
       "      <td>0</td>\n",
       "      <td>0</td>\n",
       "      <td>1</td>\n",
       "      <td>0</td>\n",
       "      <td>0</td>\n",
       "      <td>1</td>\n",
       "      <td>1</td>\n",
       "    </tr>\n",
       "  </tbody>\n",
       "</table>\n",
       "</div>"
      ],
      "text/plain": [
       "      receipt_id  company_id  matched_transaction_id  feature_transaction_id  \\\n",
       "7311     30203.0       30000                 30398.0                 30397.0   \n",
       "7312     30203.0       30000                 30398.0                 30398.0   \n",
       "7310     30203.0       30000                 30398.0                 30396.0   \n",
       "7301     30203.0       30000                 30398.0                 30387.0   \n",
       "7302     30203.0       30000                 30398.0                 30388.0   \n",
       "7295     30203.0       30000                 30398.0                 30255.0   \n",
       "7299     30203.0       30000                 30398.0                 30383.0   \n",
       "7305     30203.0       30000                 30398.0                 30391.0   \n",
       "7297     30203.0       30000                 30398.0                 30257.0   \n",
       "7296     30203.0       30000                 30398.0                 30256.0   \n",
       "7307     30203.0       30000                 30398.0                 30393.0   \n",
       "\n",
       "      DateMappingMatch  AmountMappingMatch  DescriptionMatch  \\\n",
       "7311                 3                   0                 0   \n",
       "7312                 3                   0                 0   \n",
       "7310                 3                   0                 0   \n",
       "7301                 0                   0                 0   \n",
       "7302                 0                   0                 0   \n",
       "7295                 0                   0                 0   \n",
       "7299                 0                   0                 0   \n",
       "7305                 0                   0                 0   \n",
       "7297                 0                   0                 0   \n",
       "7296                 0                   0                 0   \n",
       "7307                 0                   0                 0   \n",
       "\n",
       "      TimeMappingMatch  PredictedNameMatch  ShortNameMatch  \\\n",
       "7311                 0                   0               0   \n",
       "7312                 0                   0               0   \n",
       "7310                 0                   0               0   \n",
       "7301                 0                   0               0   \n",
       "7302                 0                   0               0   \n",
       "7295                 0                   0               0   \n",
       "7299                 0                   0               0   \n",
       "7305                 0                   0               0   \n",
       "7297                 0                   0               0   \n",
       "7296                 0                   0               0   \n",
       "7307                 0                   0               0   \n",
       "\n",
       "      DifferentPredictedDate  PredictedAmountMatch  PredictedTimeCloseMatch  \\\n",
       "7311                       0                     0                        0   \n",
       "7312                       0                     0                        0   \n",
       "7310                       0                     0                        0   \n",
       "7301                       1                     0                        0   \n",
       "7302                       1                     0                        0   \n",
       "7295                       1                     0                        0   \n",
       "7299                       1                     0                        0   \n",
       "7305                       1                     0                        0   \n",
       "7297                       1                     0                        0   \n",
       "7296                       1                     0                        0   \n",
       "7307                       1                     0                        0   \n",
       "\n",
       "      Preds  Actual  \n",
       "7311      3       3  \n",
       "7312      3      10  \n",
       "7310      3       3  \n",
       "7301      1       1  \n",
       "7302      1       1  \n",
       "7295      1       1  \n",
       "7299      1       1  \n",
       "7305      1       1  \n",
       "7297      1       1  \n",
       "7296      1       1  \n",
       "7307      1       1  "
      ]
     },
     "execution_count": 231,
     "metadata": {},
     "output_type": "execute_result"
    }
   ],
   "source": [
    "Temp[Temp.matched_transaction_id==30398.0].sort_values(by=[\"matched_transaction_id\",\"Preds\"], ascending=[True, False])"
   ]
  },
  {
   "cell_type": "code",
   "execution_count": 213,
   "metadata": {},
   "outputs": [],
   "source": [
    "cf_matrix = confusion_matrix(y_test, Predictions,labels=list(set(y_test)))\n",
    "#print(cf_matrix)"
   ]
  },
  {
   "cell_type": "code",
   "execution_count": 214,
   "metadata": {},
   "outputs": [
    {
     "data": {
      "text/plain": [
       "<AxesSubplot:>"
      ]
     },
     "execution_count": 214,
     "metadata": {},
     "output_type": "execute_result"
    },
    {
     "data": {
      "image/png": "[encoded data removed]",
      "text/plain": [
       "<Figure size 1008x648 with 2 Axes>"
      ]
     },
     "metadata": {
      "needs_background": "light"
     },
     "output_type": "display_data"
    }
   ],
   "source": [
    "df_cm = pd.DataFrame(cf_matrix, columns=list(set(y_test)),index=list(set(y_test)))\n",
    "#df_cm\n",
    "plt.figure(figsize = (14,9))\n",
    "sns.heatmap(df_cm, annot=True,cmap='Blues')"
   ]
  },
  {
   "cell_type": "code",
   "execution_count": 215,
   "metadata": {},
   "outputs": [
    {
     "name": "stdout",
     "output_type": "stream",
     "text": [
      "              precision    recall  f1-score   support\n",
      "\n",
      "           1       1.00      1.00      1.00      2494\n",
      "           2       0.97      1.00      0.98       225\n",
      "           3       0.85      0.91      0.88       528\n",
      "           4       0.56      0.64      0.60        69\n",
      "           5       0.83      0.53      0.65        19\n",
      "           6       0.33      0.29      0.31         7\n",
      "           7       0.12      0.33      0.18         3\n",
      "          10       0.65      0.53      0.59       266\n",
      "\n",
      "    accuracy                           0.94      3611\n",
      "   macro avg       0.67      0.65      0.65      3611\n",
      "weighted avg       0.94      0.94      0.94      3611\n",
      "\n"
     ]
    }
   ],
   "source": [
    "print(classification_report(y_test, Predictions))"
   ]
  },
  {
   "cell_type": "code",
   "execution_count": 216,
   "metadata": {},
   "outputs": [],
   "source": [
    "This_1= roc_auc_score(y_test_temp, Predictions_temp)"
   ]
  },
  {
   "cell_type": "code",
   "execution_count": 217,
   "metadata": {},
   "outputs": [
    {
     "name": "stdout",
     "output_type": "stream",
     "text": [
      " AUC-ROC score is 0.7305527202445928\n"
     ]
    }
   ],
   "source": [
    "print(f\" AUC-ROC score is {This_1}\")"
   ]
  },
  {
   "cell_type": "code",
   "execution_count": 218,
   "metadata": {},
   "outputs": [],
   "source": [
    "fpr1, tpr1, _ = roc_curve(y_test_temp, Predictions_temp)"
   ]
  },
  {
   "cell_type": "code",
   "execution_count": 219,
   "metadata": {},
   "outputs": [
    {
     "data": {
      "image/png": "[encoded data removed]",
      "text/plain": [
       "<Figure size 864x576 with 1 Axes>"
      ]
     },
     "metadata": {
      "needs_background": "light"
     },
     "output_type": "display_data"
    }
   ],
   "source": [
    "plt.figure(figsize=(12,8))\n",
    "plt.plot([0,1],[0,1], 'k--', label=\"Median\")\n",
    "plt.plot(fpr1, tpr1, label= \"Scoring Method\")\n",
    "\n",
    "plt.legend()\n",
    "plt.xlabel(\"FPR\")\n",
    "plt.ylabel(\"TPR\")\n",
    "plt.title('Receiver Operating Characteristic')\n",
    "plt.show()"
   ]
  },
  {
   "cell_type": "code",
   "execution_count": null,
   "metadata": {},
   "outputs": [],
   "source": []
  },
  {
   "cell_type": "markdown",
   "metadata": {},
   "source": [
    "- The above model is also showing significant results, however we've added more classes to the model\n",
    "\n",
    "\n",
    "- The idea here is to create Scores for each data row, which is a cumulative of all the Matched probabilities\n",
    "\n",
    "\n",
    "- Scoring for matched rows is given as a maximum (10)\n",
    "\n",
    "\n",
    "- This Scoring column is the Label\n",
    "\n",
    "\n",
    "- Model is trained in this manner\n",
    "\n",
    "\n",
    "\n"
   ]
  },
  {
   "cell_type": "markdown",
   "metadata": {},
   "source": [
    "<b>Final Inference</b> -\n",
    "\n",
    "- We can combine both these models to come up with a model which uses the best of both worlds, however for the interest of time this is not done"
   ]
  },
  {
   "cell_type": "code",
   "execution_count": null,
   "metadata": {},
   "outputs": [],
   "source": []
  }
 ],
 "metadata": {
  "kernelspec": {
   "display_name": "Python 3",
   "language": "python",
   "name": "python3"
  },
  "language_info": {
   "codemirror_mode": {
    "name": "ipython",
    "version": 3
   },
   "file_extension": ".py",
   "mimetype": "text/x-python",
   "name": "python",
   "nbconvert_exporter": "python",
   "pygments_lexer": "ipython3",
   "version": "3.7.4"
  }
 },
 "nbformat": 4,
 "nbformat_minor": 2
}
